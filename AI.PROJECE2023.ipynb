{
  "cells": [
    {
      "attachments": {},
      "cell_type": "markdown",
      "metadata": {
        "id": "VGNCgpLfyFtA"
      },
      "source": [
        "**Initializing packages and importing datasets**"
      ]
    },
    {
      "cell_type": "code",
      "execution_count": 2,
      "metadata": {
        "id": "kg57RzS74FVc"
      },
      "outputs": [],
      "source": [
        "import numpy as np\n",
        "import pandas as pd\n",
        "from sklearn import preprocessing\n",
        "import matplotlib.pyplot as plt\n",
        "import seaborn as sns\n",
        "\n",
        "import warnings\n",
        "warnings.filterwarnings('ignore')"
      ]
    },
    {
      "attachments": {},
      "cell_type": "markdown",
      "metadata": {},
      "source": [
        " **upload the csv file with the dataanalysis**"
      ]
    },
    {
      "cell_type": "code",
      "execution_count": 4,
      "metadata": {
        "id": "Kxmkv8IP4Iou"
      },
      "outputs": [],
      "source": [
        "social = pd.read_csv(\"C:/Users/7abod/OneDrive/Desktop/social_media_shares.csv\")"
      ]
    },
    {
      "attachments": {},
      "cell_type": "markdown",
      "metadata": {
        "id": "D1_x454UUlQp"
      },
      "source": [
        "**Performing exploratory data analysis**"
      ]
    },
    {
      "cell_type": "code",
      "execution_count": 5,
      "metadata": {
        "colab": {
          "base_uri": "https://localhost:8080/",
          "height": 299
        },
        "id": "S_i3h7G-ltfH",
        "outputId": "4bd6b412-3c4d-480b-bf0d-1b18c7943cb4"
      },
      "outputs": [
        {
          "data": {
            "text/html": [
              "<div>\n",
              "<style scoped>\n",
              "    .dataframe tbody tr th:only-of-type {\n",
              "        vertical-align: middle;\n",
              "    }\n",
              "\n",
              "    .dataframe tbody tr th {\n",
              "        vertical-align: top;\n",
              "    }\n",
              "\n",
              "    .dataframe thead th {\n",
              "        text-align: right;\n",
              "    }\n",
              "</style>\n",
              "<table border=\"1\" class=\"dataframe\">\n",
              "  <thead>\n",
              "    <tr style=\"text-align: right;\">\n",
              "      <th></th>\n",
              "      <th>tokens_title</th>\n",
              "      <th>tokens_content</th>\n",
              "      <th>unique_tokens</th>\n",
              "      <th>non_stop_words</th>\n",
              "      <th>non_stop_unique_tokens</th>\n",
              "      <th>hrefs</th>\n",
              "      <th>self_refs</th>\n",
              "      <th>imgs</th>\n",
              "      <th>videos</th>\n",
              "      <th>token_length</th>\n",
              "      <th>...</th>\n",
              "      <th>min_positive_polarity</th>\n",
              "      <th>max_positive_polarity</th>\n",
              "      <th>avg_negative_polarity</th>\n",
              "      <th>min_negative_polarity</th>\n",
              "      <th>max_negative_polarity</th>\n",
              "      <th>title_subjectivity</th>\n",
              "      <th>title_sentiment_polarity</th>\n",
              "      <th>abs_title_subjectivity</th>\n",
              "      <th>abs_title_sentiment_polarity</th>\n",
              "      <th>shares</th>\n",
              "    </tr>\n",
              "  </thead>\n",
              "  <tbody>\n",
              "    <tr>\n",
              "      <th>0</th>\n",
              "      <td>12</td>\n",
              "      <td>219</td>\n",
              "      <td>0.663594</td>\n",
              "      <td>1.0</td>\n",
              "      <td>0.815385</td>\n",
              "      <td>4</td>\n",
              "      <td>2</td>\n",
              "      <td>1</td>\n",
              "      <td>0</td>\n",
              "      <td>4.680365</td>\n",
              "      <td>...</td>\n",
              "      <td>0.100000</td>\n",
              "      <td>0.7</td>\n",
              "      <td>-0.350000</td>\n",
              "      <td>-0.600</td>\n",
              "      <td>-0.200000</td>\n",
              "      <td>0.500000</td>\n",
              "      <td>-0.187500</td>\n",
              "      <td>0.000000</td>\n",
              "      <td>0.187500</td>\n",
              "      <td>593</td>\n",
              "    </tr>\n",
              "    <tr>\n",
              "      <th>1</th>\n",
              "      <td>9</td>\n",
              "      <td>255</td>\n",
              "      <td>0.604743</td>\n",
              "      <td>1.0</td>\n",
              "      <td>0.791946</td>\n",
              "      <td>3</td>\n",
              "      <td>1</td>\n",
              "      <td>1</td>\n",
              "      <td>0</td>\n",
              "      <td>4.913725</td>\n",
              "      <td>...</td>\n",
              "      <td>0.033333</td>\n",
              "      <td>0.7</td>\n",
              "      <td>-0.118750</td>\n",
              "      <td>-0.125</td>\n",
              "      <td>-0.100000</td>\n",
              "      <td>0.000000</td>\n",
              "      <td>0.000000</td>\n",
              "      <td>0.500000</td>\n",
              "      <td>0.000000</td>\n",
              "      <td>711</td>\n",
              "    </tr>\n",
              "    <tr>\n",
              "      <th>2</th>\n",
              "      <td>9</td>\n",
              "      <td>211</td>\n",
              "      <td>0.575130</td>\n",
              "      <td>1.0</td>\n",
              "      <td>0.663866</td>\n",
              "      <td>3</td>\n",
              "      <td>1</td>\n",
              "      <td>1</td>\n",
              "      <td>0</td>\n",
              "      <td>4.393365</td>\n",
              "      <td>...</td>\n",
              "      <td>0.100000</td>\n",
              "      <td>1.0</td>\n",
              "      <td>-0.466667</td>\n",
              "      <td>-0.800</td>\n",
              "      <td>-0.133333</td>\n",
              "      <td>0.000000</td>\n",
              "      <td>0.000000</td>\n",
              "      <td>0.500000</td>\n",
              "      <td>0.000000</td>\n",
              "      <td>1500</td>\n",
              "    </tr>\n",
              "    <tr>\n",
              "      <th>3</th>\n",
              "      <td>9</td>\n",
              "      <td>531</td>\n",
              "      <td>0.503788</td>\n",
              "      <td>1.0</td>\n",
              "      <td>0.665635</td>\n",
              "      <td>9</td>\n",
              "      <td>0</td>\n",
              "      <td>1</td>\n",
              "      <td>0</td>\n",
              "      <td>4.404896</td>\n",
              "      <td>...</td>\n",
              "      <td>0.136364</td>\n",
              "      <td>0.8</td>\n",
              "      <td>-0.369697</td>\n",
              "      <td>-0.600</td>\n",
              "      <td>-0.166667</td>\n",
              "      <td>0.000000</td>\n",
              "      <td>0.000000</td>\n",
              "      <td>0.500000</td>\n",
              "      <td>0.000000</td>\n",
              "      <td>1200</td>\n",
              "    </tr>\n",
              "    <tr>\n",
              "      <th>4</th>\n",
              "      <td>13</td>\n",
              "      <td>1072</td>\n",
              "      <td>0.415646</td>\n",
              "      <td>1.0</td>\n",
              "      <td>0.540890</td>\n",
              "      <td>19</td>\n",
              "      <td>19</td>\n",
              "      <td>20</td>\n",
              "      <td>0</td>\n",
              "      <td>4.682836</td>\n",
              "      <td>...</td>\n",
              "      <td>0.033333</td>\n",
              "      <td>1.0</td>\n",
              "      <td>-0.220192</td>\n",
              "      <td>-0.500</td>\n",
              "      <td>-0.050000</td>\n",
              "      <td>0.454545</td>\n",
              "      <td>0.136364</td>\n",
              "      <td>0.045455</td>\n",
              "      <td>0.136364</td>\n",
              "      <td>505</td>\n",
              "    </tr>\n",
              "    <tr>\n",
              "      <th>5</th>\n",
              "      <td>10</td>\n",
              "      <td>370</td>\n",
              "      <td>0.559889</td>\n",
              "      <td>1.0</td>\n",
              "      <td>0.698198</td>\n",
              "      <td>2</td>\n",
              "      <td>2</td>\n",
              "      <td>0</td>\n",
              "      <td>0</td>\n",
              "      <td>4.359459</td>\n",
              "      <td>...</td>\n",
              "      <td>0.136364</td>\n",
              "      <td>0.6</td>\n",
              "      <td>-0.195000</td>\n",
              "      <td>-0.400</td>\n",
              "      <td>-0.100000</td>\n",
              "      <td>0.642857</td>\n",
              "      <td>0.214286</td>\n",
              "      <td>0.142857</td>\n",
              "      <td>0.214286</td>\n",
              "      <td>855</td>\n",
              "    </tr>\n",
              "    <tr>\n",
              "      <th>6</th>\n",
              "      <td>8</td>\n",
              "      <td>960</td>\n",
              "      <td>0.418163</td>\n",
              "      <td>1.0</td>\n",
              "      <td>0.549834</td>\n",
              "      <td>21</td>\n",
              "      <td>20</td>\n",
              "      <td>20</td>\n",
              "      <td>0</td>\n",
              "      <td>4.654167</td>\n",
              "      <td>...</td>\n",
              "      <td>0.100000</td>\n",
              "      <td>1.0</td>\n",
              "      <td>-0.224479</td>\n",
              "      <td>-0.500</td>\n",
              "      <td>-0.050000</td>\n",
              "      <td>0.000000</td>\n",
              "      <td>0.000000</td>\n",
              "      <td>0.500000</td>\n",
              "      <td>0.000000</td>\n",
              "      <td>556</td>\n",
              "    </tr>\n",
              "  </tbody>\n",
              "</table>\n",
              "<p>7 rows × 59 columns</p>\n",
              "</div>"
            ],
            "text/plain": [
              "   tokens_title  tokens_content  unique_tokens  non_stop_words   \n",
              "0            12             219       0.663594             1.0  \\\n",
              "1             9             255       0.604743             1.0   \n",
              "2             9             211       0.575130             1.0   \n",
              "3             9             531       0.503788             1.0   \n",
              "4            13            1072       0.415646             1.0   \n",
              "5            10             370       0.559889             1.0   \n",
              "6             8             960       0.418163             1.0   \n",
              "\n",
              "   non_stop_unique_tokens  hrefs  self_refs  imgs  videos  token_length  ...   \n",
              "0                0.815385      4          2     1       0      4.680365  ...  \\\n",
              "1                0.791946      3          1     1       0      4.913725  ...   \n",
              "2                0.663866      3          1     1       0      4.393365  ...   \n",
              "3                0.665635      9          0     1       0      4.404896  ...   \n",
              "4                0.540890     19         19    20       0      4.682836  ...   \n",
              "5                0.698198      2          2     0       0      4.359459  ...   \n",
              "6                0.549834     21         20    20       0      4.654167  ...   \n",
              "\n",
              "   min_positive_polarity  max_positive_polarity  avg_negative_polarity   \n",
              "0               0.100000                    0.7              -0.350000  \\\n",
              "1               0.033333                    0.7              -0.118750   \n",
              "2               0.100000                    1.0              -0.466667   \n",
              "3               0.136364                    0.8              -0.369697   \n",
              "4               0.033333                    1.0              -0.220192   \n",
              "5               0.136364                    0.6              -0.195000   \n",
              "6               0.100000                    1.0              -0.224479   \n",
              "\n",
              "   min_negative_polarity  max_negative_polarity  title_subjectivity   \n",
              "0                 -0.600              -0.200000            0.500000  \\\n",
              "1                 -0.125              -0.100000            0.000000   \n",
              "2                 -0.800              -0.133333            0.000000   \n",
              "3                 -0.600              -0.166667            0.000000   \n",
              "4                 -0.500              -0.050000            0.454545   \n",
              "5                 -0.400              -0.100000            0.642857   \n",
              "6                 -0.500              -0.050000            0.000000   \n",
              "\n",
              "   title_sentiment_polarity  abs_title_subjectivity   \n",
              "0                 -0.187500                0.000000  \\\n",
              "1                  0.000000                0.500000   \n",
              "2                  0.000000                0.500000   \n",
              "3                  0.000000                0.500000   \n",
              "4                  0.136364                0.045455   \n",
              "5                  0.214286                0.142857   \n",
              "6                  0.000000                0.500000   \n",
              "\n",
              "   abs_title_sentiment_polarity  shares  \n",
              "0                      0.187500     593  \n",
              "1                      0.000000     711  \n",
              "2                      0.000000    1500  \n",
              "3                      0.000000    1200  \n",
              "4                      0.136364     505  \n",
              "5                      0.214286     855  \n",
              "6                      0.000000     556  \n",
              "\n",
              "[7 rows x 59 columns]"
            ]
          },
          "execution_count": 5,
          "metadata": {},
          "output_type": "execute_result"
        }
      ],
      "source": [
        "social.head(7) #show 1st 7 rows on default"
      ]
    },
    {
      "cell_type": "code",
      "execution_count": null,
      "metadata": {
        "colab": {
          "base_uri": "https://localhost:8080/",
          "height": 394
        },
        "id": "b-MluCMWVwDX",
        "outputId": "4f4843ee-1789-48df-eb7f-4b4dafddf161"
      },
      "outputs": [
        {
          "data": {
            "text/html": [
              "\n",
              "  <div id=\"df-6160b2d5-f73b-4a77-bc54-443304f5085c\">\n",
              "    <div class=\"colab-df-container\">\n",
              "      <div>\n",
              "<style scoped>\n",
              "    .dataframe tbody tr th:only-of-type {\n",
              "        vertical-align: middle;\n",
              "    }\n",
              "\n",
              "    .dataframe tbody tr th {\n",
              "        vertical-align: top;\n",
              "    }\n",
              "\n",
              "    .dataframe thead th {\n",
              "        text-align: right;\n",
              "    }\n",
              "</style>\n",
              "<table border=\"1\" class=\"dataframe\">\n",
              "  <thead>\n",
              "    <tr style=\"text-align: right;\">\n",
              "      <th></th>\n",
              "      <th>tokens_title</th>\n",
              "      <th>tokens_content</th>\n",
              "      <th>unique_tokens</th>\n",
              "      <th>non_stop_words</th>\n",
              "      <th>non_stop_unique_tokens</th>\n",
              "      <th>hrefs</th>\n",
              "      <th>self_refs</th>\n",
              "      <th>imgs</th>\n",
              "      <th>videos</th>\n",
              "      <th>token_length</th>\n",
              "      <th>...</th>\n",
              "      <th>min_positive_polarity</th>\n",
              "      <th>max_positive_polarity</th>\n",
              "      <th>avg_negative_polarity</th>\n",
              "      <th>min_negative_polarity</th>\n",
              "      <th>max_negative_polarity</th>\n",
              "      <th>title_subjectivity</th>\n",
              "      <th>title_sentiment_polarity</th>\n",
              "      <th>abs_title_subjectivity</th>\n",
              "      <th>abs_title_sentiment_polarity</th>\n",
              "      <th>shares</th>\n",
              "    </tr>\n",
              "  </thead>\n",
              "  <tbody>\n",
              "    <tr>\n",
              "      <th>count</th>\n",
              "      <td>31936.000000</td>\n",
              "      <td>31936.000000</td>\n",
              "      <td>31936.000000</td>\n",
              "      <td>31936.000000</td>\n",
              "      <td>31936.000000</td>\n",
              "      <td>31936.000000</td>\n",
              "      <td>31936.000000</td>\n",
              "      <td>31936.000000</td>\n",
              "      <td>31936.000000</td>\n",
              "      <td>31936.000000</td>\n",
              "      <td>...</td>\n",
              "      <td>31935.000000</td>\n",
              "      <td>31935.000000</td>\n",
              "      <td>31935.000000</td>\n",
              "      <td>31935.000000</td>\n",
              "      <td>31935.000000</td>\n",
              "      <td>31935.000000</td>\n",
              "      <td>31935.000000</td>\n",
              "      <td>31935.000000</td>\n",
              "      <td>31935.000000</td>\n",
              "      <td>31935.000000</td>\n",
              "    </tr>\n",
              "    <tr>\n",
              "      <th>mean</th>\n",
              "      <td>10.219564</td>\n",
              "      <td>545.492829</td>\n",
              "      <td>0.564232</td>\n",
              "      <td>1.018036</td>\n",
              "      <td>0.705651</td>\n",
              "      <td>11.115763</td>\n",
              "      <td>3.434369</td>\n",
              "      <td>4.735220</td>\n",
              "      <td>1.263308</td>\n",
              "      <td>4.617672</td>\n",
              "      <td>...</td>\n",
              "      <td>0.097575</td>\n",
              "      <td>0.771184</td>\n",
              "      <td>-0.261613</td>\n",
              "      <td>-0.521262</td>\n",
              "      <td>-0.110002</td>\n",
              "      <td>0.280516</td>\n",
              "      <td>0.074183</td>\n",
              "      <td>0.342067</td>\n",
              "      <td>0.155544</td>\n",
              "      <td>3485.280476</td>\n",
              "    </tr>\n",
              "    <tr>\n",
              "      <th>std</th>\n",
              "      <td>2.058822</td>\n",
              "      <td>473.829155</td>\n",
              "      <td>3.921517</td>\n",
              "      <td>5.826508</td>\n",
              "      <td>3.635793</td>\n",
              "      <td>11.253887</td>\n",
              "      <td>3.942814</td>\n",
              "      <td>8.636836</td>\n",
              "      <td>4.198700</td>\n",
              "      <td>0.626894</td>\n",
              "      <td>...</td>\n",
              "      <td>0.071978</td>\n",
              "      <td>0.230798</td>\n",
              "      <td>0.124921</td>\n",
              "      <td>0.283810</td>\n",
              "      <td>0.095771</td>\n",
              "      <td>0.323475</td>\n",
              "      <td>0.264293</td>\n",
              "      <td>0.189181</td>\n",
              "      <td>0.226184</td>\n",
              "      <td>12310.748606</td>\n",
              "    </tr>\n",
              "    <tr>\n",
              "      <th>min</th>\n",
              "      <td>2.000000</td>\n",
              "      <td>0.000000</td>\n",
              "      <td>0.000000</td>\n",
              "      <td>0.000000</td>\n",
              "      <td>0.000000</td>\n",
              "      <td>0.000000</td>\n",
              "      <td>0.000000</td>\n",
              "      <td>0.000000</td>\n",
              "      <td>0.000000</td>\n",
              "      <td>0.000000</td>\n",
              "      <td>...</td>\n",
              "      <td>0.000000</td>\n",
              "      <td>0.000000</td>\n",
              "      <td>-1.000000</td>\n",
              "      <td>-1.000000</td>\n",
              "      <td>-1.000000</td>\n",
              "      <td>0.000000</td>\n",
              "      <td>-1.000000</td>\n",
              "      <td>0.000000</td>\n",
              "      <td>0.000000</td>\n",
              "      <td>1.000000</td>\n",
              "    </tr>\n",
              "    <tr>\n",
              "      <th>25%</th>\n",
              "      <td>9.000000</td>\n",
              "      <td>245.000000</td>\n",
              "      <td>0.476190</td>\n",
              "      <td>1.000000</td>\n",
              "      <td>0.629966</td>\n",
              "      <td>5.000000</td>\n",
              "      <td>1.000000</td>\n",
              "      <td>1.000000</td>\n",
              "      <td>0.000000</td>\n",
              "      <td>4.487415</td>\n",
              "      <td>...</td>\n",
              "      <td>0.050000</td>\n",
              "      <td>0.600000</td>\n",
              "      <td>-0.328125</td>\n",
              "      <td>-0.700000</td>\n",
              "      <td>-0.125000</td>\n",
              "      <td>0.000000</td>\n",
              "      <td>0.000000</td>\n",
              "      <td>0.166667</td>\n",
              "      <td>0.000000</td>\n",
              "      <td>958.000000</td>\n",
              "    </tr>\n",
              "    <tr>\n",
              "      <th>50%</th>\n",
              "      <td>10.000000</td>\n",
              "      <td>403.000000</td>\n",
              "      <td>0.545392</td>\n",
              "      <td>1.000000</td>\n",
              "      <td>0.694737</td>\n",
              "      <td>8.000000</td>\n",
              "      <td>3.000000</td>\n",
              "      <td>1.000000</td>\n",
              "      <td>0.000000</td>\n",
              "      <td>4.664727</td>\n",
              "      <td>...</td>\n",
              "      <td>0.100000</td>\n",
              "      <td>0.800000</td>\n",
              "      <td>-0.253889</td>\n",
              "      <td>-0.500000</td>\n",
              "      <td>-0.100000</td>\n",
              "      <td>0.125000</td>\n",
              "      <td>0.000000</td>\n",
              "      <td>0.500000</td>\n",
              "      <td>0.000000</td>\n",
              "      <td>1500.000000</td>\n",
              "    </tr>\n",
              "    <tr>\n",
              "      <th>75%</th>\n",
              "      <td>12.000000</td>\n",
              "      <td>707.000000</td>\n",
              "      <td>0.614793</td>\n",
              "      <td>1.000000</td>\n",
              "      <td>0.759259</td>\n",
              "      <td>14.000000</td>\n",
              "      <td>4.000000</td>\n",
              "      <td>5.000000</td>\n",
              "      <td>1.000000</td>\n",
              "      <td>4.853032</td>\n",
              "      <td>...</td>\n",
              "      <td>0.100000</td>\n",
              "      <td>1.000000</td>\n",
              "      <td>-0.187500</td>\n",
              "      <td>-0.300000</td>\n",
              "      <td>-0.050000</td>\n",
              "      <td>0.500000</td>\n",
              "      <td>0.150000</td>\n",
              "      <td>0.500000</td>\n",
              "      <td>0.250000</td>\n",
              "      <td>2900.000000</td>\n",
              "    </tr>\n",
              "    <tr>\n",
              "      <th>max</th>\n",
              "      <td>19.000000</td>\n",
              "      <td>8474.000000</td>\n",
              "      <td>701.000000</td>\n",
              "      <td>1042.000000</td>\n",
              "      <td>650.000000</td>\n",
              "      <td>187.000000</td>\n",
              "      <td>74.000000</td>\n",
              "      <td>128.000000</td>\n",
              "      <td>91.000000</td>\n",
              "      <td>7.695652</td>\n",
              "      <td>...</td>\n",
              "      <td>1.000000</td>\n",
              "      <td>1.000000</td>\n",
              "      <td>0.000000</td>\n",
              "      <td>0.000000</td>\n",
              "      <td>0.000000</td>\n",
              "      <td>1.000000</td>\n",
              "      <td>1.000000</td>\n",
              "      <td>0.500000</td>\n",
              "      <td>1.000000</td>\n",
              "      <td>843300.000000</td>\n",
              "    </tr>\n",
              "  </tbody>\n",
              "</table>\n",
              "<p>8 rows × 59 columns</p>\n",
              "</div>\n",
              "      <button class=\"colab-df-convert\" onclick=\"convertToInteractive('df-6160b2d5-f73b-4a77-bc54-443304f5085c')\"\n",
              "              title=\"Convert this dataframe to an interactive table.\"\n",
              "              style=\"display:none;\">\n",
              "        \n",
              "  <svg xmlns=\"http://www.w3.org/2000/svg\" height=\"24px\"viewBox=\"0 0 24 24\"\n",
              "       width=\"24px\">\n",
              "    <path d=\"M0 0h24v24H0V0z\" fill=\"none\"/>\n",
              "    <path d=\"M18.56 5.44l.94 2.06.94-2.06 2.06-.94-2.06-.94-.94-2.06-.94 2.06-2.06.94zm-11 1L8.5 8.5l.94-2.06 2.06-.94-2.06-.94L8.5 2.5l-.94 2.06-2.06.94zm10 10l.94 2.06.94-2.06 2.06-.94-2.06-.94-.94-2.06-.94 2.06-2.06.94z\"/><path d=\"M17.41 7.96l-1.37-1.37c-.4-.4-.92-.59-1.43-.59-.52 0-1.04.2-1.43.59L10.3 9.45l-7.72 7.72c-.78.78-.78 2.05 0 2.83L4 21.41c.39.39.9.59 1.41.59.51 0 1.02-.2 1.41-.59l7.78-7.78 2.81-2.81c.8-.78.8-2.07 0-2.86zM5.41 20L4 18.59l7.72-7.72 1.47 1.35L5.41 20z\"/>\n",
              "  </svg>\n",
              "      </button>\n",
              "      \n",
              "  <style>\n",
              "    .colab-df-container {\n",
              "      display:flex;\n",
              "      flex-wrap:wrap;\n",
              "      gap: 12px;\n",
              "    }\n",
              "\n",
              "    .colab-df-convert {\n",
              "      background-color: #E8F0FE;\n",
              "      border: none;\n",
              "      border-radius: 50%;\n",
              "      cursor: pointer;\n",
              "      display: none;\n",
              "      fill: #1967D2;\n",
              "      height: 32px;\n",
              "      padding: 0 0 0 0;\n",
              "      width: 32px;\n",
              "    }\n",
              "\n",
              "    .colab-df-convert:hover {\n",
              "      background-color: #E2EBFA;\n",
              "      box-shadow: 0px 1px 2px rgba(60, 64, 67, 0.3), 0px 1px 3px 1px rgba(60, 64, 67, 0.15);\n",
              "      fill: #174EA6;\n",
              "    }\n",
              "\n",
              "    [theme=dark] .colab-df-convert {\n",
              "      background-color: #3B4455;\n",
              "      fill: #D2E3FC;\n",
              "    }\n",
              "\n",
              "    [theme=dark] .colab-df-convert:hover {\n",
              "      background-color: #434B5C;\n",
              "      box-shadow: 0px 1px 3px 1px rgba(0, 0, 0, 0.15);\n",
              "      filter: drop-shadow(0px 1px 2px rgba(0, 0, 0, 0.3));\n",
              "      fill: #FFFFFF;\n",
              "    }\n",
              "  </style>\n",
              "\n",
              "      <script>\n",
              "        const buttonEl =\n",
              "          document.querySelector('#df-6160b2d5-f73b-4a77-bc54-443304f5085c button.colab-df-convert');\n",
              "        buttonEl.style.display =\n",
              "          google.colab.kernel.accessAllowed ? 'block' : 'none';\n",
              "\n",
              "        async function convertToInteractive(key) {\n",
              "          const element = document.querySelector('#df-6160b2d5-f73b-4a77-bc54-443304f5085c');\n",
              "          const dataTable =\n",
              "            await google.colab.kernel.invokeFunction('convertToInteractive',\n",
              "                                                     [key], {});\n",
              "          if (!dataTable) return;\n",
              "\n",
              "          const docLinkHtml = 'Like what you see? Visit the ' +\n",
              "            '<a target=\"_blank\" href=https://colab.research.google.com/notebooks/data_table.ipynb>data table notebook</a>'\n",
              "            + ' to learn more about interactive tables.';\n",
              "          element.innerHTML = '';\n",
              "          dataTable['output_type'] = 'display_data';\n",
              "          await google.colab.output.renderOutput(dataTable, element);\n",
              "          const docLink = document.createElement('div');\n",
              "          docLink.innerHTML = docLinkHtml;\n",
              "          element.appendChild(docLink);\n",
              "        }\n",
              "      </script>\n",
              "    </div>\n",
              "  </div>\n",
              "  "
            ],
            "text/plain": [
              "       tokens_title  tokens_content  unique_tokens  non_stop_words  \\\n",
              "count  31936.000000    31936.000000   31936.000000    31936.000000   \n",
              "mean      10.219564      545.492829       0.564232        1.018036   \n",
              "std        2.058822      473.829155       3.921517        5.826508   \n",
              "min        2.000000        0.000000       0.000000        0.000000   \n",
              "25%        9.000000      245.000000       0.476190        1.000000   \n",
              "50%       10.000000      403.000000       0.545392        1.000000   \n",
              "75%       12.000000      707.000000       0.614793        1.000000   \n",
              "max       19.000000     8474.000000     701.000000     1042.000000   \n",
              "\n",
              "       non_stop_unique_tokens         hrefs     self_refs          imgs  \\\n",
              "count            31936.000000  31936.000000  31936.000000  31936.000000   \n",
              "mean                 0.705651     11.115763      3.434369      4.735220   \n",
              "std                  3.635793     11.253887      3.942814      8.636836   \n",
              "min                  0.000000      0.000000      0.000000      0.000000   \n",
              "25%                  0.629966      5.000000      1.000000      1.000000   \n",
              "50%                  0.694737      8.000000      3.000000      1.000000   \n",
              "75%                  0.759259     14.000000      4.000000      5.000000   \n",
              "max                650.000000    187.000000     74.000000    128.000000   \n",
              "\n",
              "             videos  token_length  ...  min_positive_polarity  \\\n",
              "count  31936.000000  31936.000000  ...           31935.000000   \n",
              "mean       1.263308      4.617672  ...               0.097575   \n",
              "std        4.198700      0.626894  ...               0.071978   \n",
              "min        0.000000      0.000000  ...               0.000000   \n",
              "25%        0.000000      4.487415  ...               0.050000   \n",
              "50%        0.000000      4.664727  ...               0.100000   \n",
              "75%        1.000000      4.853032  ...               0.100000   \n",
              "max       91.000000      7.695652  ...               1.000000   \n",
              "\n",
              "       max_positive_polarity  avg_negative_polarity  min_negative_polarity  \\\n",
              "count           31935.000000           31935.000000           31935.000000   \n",
              "mean                0.771184              -0.261613              -0.521262   \n",
              "std                 0.230798               0.124921               0.283810   \n",
              "min                 0.000000              -1.000000              -1.000000   \n",
              "25%                 0.600000              -0.328125              -0.700000   \n",
              "50%                 0.800000              -0.253889              -0.500000   \n",
              "75%                 1.000000              -0.187500              -0.300000   \n",
              "max                 1.000000               0.000000               0.000000   \n",
              "\n",
              "       max_negative_polarity  title_subjectivity  title_sentiment_polarity  \\\n",
              "count           31935.000000        31935.000000              31935.000000   \n",
              "mean               -0.110002            0.280516                  0.074183   \n",
              "std                 0.095771            0.323475                  0.264293   \n",
              "min                -1.000000            0.000000                 -1.000000   \n",
              "25%                -0.125000            0.000000                  0.000000   \n",
              "50%                -0.100000            0.125000                  0.000000   \n",
              "75%                -0.050000            0.500000                  0.150000   \n",
              "max                 0.000000            1.000000                  1.000000   \n",
              "\n",
              "       abs_title_subjectivity  abs_title_sentiment_polarity         shares  \n",
              "count            31935.000000                  31935.000000   31935.000000  \n",
              "mean                 0.342067                      0.155544    3485.280476  \n",
              "std                  0.189181                      0.226184   12310.748606  \n",
              "min                  0.000000                      0.000000       1.000000  \n",
              "25%                  0.166667                      0.000000     958.000000  \n",
              "50%                  0.500000                      0.000000    1500.000000  \n",
              "75%                  0.500000                      0.250000    2900.000000  \n",
              "max                  0.500000                      1.000000  843300.000000  \n",
              "\n",
              "[8 rows x 59 columns]"
            ]
          },
          "execution_count": 79,
          "metadata": {},
          "output_type": "execute_result"
        }
      ],
      "source": [
        "social.describe()"
      ]
    },
    {
      "cell_type": "code",
      "execution_count": null,
      "metadata": {
        "colab": {
          "base_uri": "https://localhost:8080/"
        },
        "id": "WC6w_QN7VzDG",
        "outputId": "e6fef2ba-abfb-4ebd-fc21-98ca3cd6b0a5"
      },
      "outputs": [
        {
          "name": "stdout",
          "output_type": "stream",
          "text": [
            "<class 'pandas.core.frame.DataFrame'>\n",
            "RangeIndex: 31936 entries, 0 to 31935\n",
            "Data columns (total 59 columns):\n",
            " #   Column                        Non-Null Count  Dtype  \n",
            "---  ------                        --------------  -----  \n",
            " 0   tokens_title                  31936 non-null  int64  \n",
            " 1   tokens_content                31936 non-null  int64  \n",
            " 2   unique_tokens                 31936 non-null  float64\n",
            " 3   non_stop_words                31936 non-null  float64\n",
            " 4   non_stop_unique_tokens        31936 non-null  float64\n",
            " 5   hrefs                         31936 non-null  int64  \n",
            " 6   self_refs                     31936 non-null  int64  \n",
            " 7   imgs                          31936 non-null  int64  \n",
            " 8   videos                        31936 non-null  int64  \n",
            " 9   token_length                  31936 non-null  float64\n",
            " 10  keywords                      31936 non-null  int64  \n",
            " 11  lifestyle                     31936 non-null  int64  \n",
            " 12  entertainment                 31936 non-null  int64  \n",
            " 13  bus                           31936 non-null  int64  \n",
            " 14  socmed                        31936 non-null  int64  \n",
            " 15  tech                          31936 non-null  int64  \n",
            " 16  world                         31936 non-null  int64  \n",
            " 17  kw_min_min                    31936 non-null  int64  \n",
            " 18  kw_max_min                    31936 non-null  float64\n",
            " 19  kw_avg_min                    31936 non-null  float64\n",
            " 20  kw_min_max                    31936 non-null  int64  \n",
            " 21  kw_max_max                    31936 non-null  int64  \n",
            " 22  kw_avg_max                    31936 non-null  float64\n",
            " 23  kw_min_avg                    31936 non-null  float64\n",
            " 24  kw_max_avg                    31936 non-null  float64\n",
            " 25  kw_avg_avg                    31936 non-null  float64\n",
            " 26  self_reference_min_shares     31936 non-null  float64\n",
            " 27  self_reference_max_shares     31936 non-null  float64\n",
            " 28  self_reference_avg_shares     31936 non-null  float64\n",
            " 29  monday                        31936 non-null  int64  \n",
            " 30  tuesday                       31936 non-null  int64  \n",
            " 31  wednesday                     31936 non-null  int64  \n",
            " 32  thursday                      31936 non-null  int64  \n",
            " 33  friday                        31936 non-null  int64  \n",
            " 34  saturday                      31936 non-null  int64  \n",
            " 35  sunday                        31936 non-null  int64  \n",
            " 36  is_weekend                    31936 non-null  int64  \n",
            " 37  LDA_00                        31936 non-null  float64\n",
            " 38  LDA_01                        31936 non-null  float64\n",
            " 39  LDA_02                        31936 non-null  float64\n",
            " 40  LDA_03                        31936 non-null  float64\n",
            " 41  LDA_04                        31935 non-null  float64\n",
            " 42  subjectivity                  31935 non-null  float64\n",
            " 43  sentiment_polarity            31935 non-null  float64\n",
            " 44  global_rate_positive_words    31935 non-null  float64\n",
            " 45  global_rate_negative_words    31935 non-null  float64\n",
            " 46  rate_positive_words           31935 non-null  float64\n",
            " 47  rate_negative_words           31935 non-null  float64\n",
            " 48  avg_positive_polarity         31935 non-null  float64\n",
            " 49  min_positive_polarity         31935 non-null  float64\n",
            " 50  max_positive_polarity         31935 non-null  float64\n",
            " 51  avg_negative_polarity         31935 non-null  float64\n",
            " 52  min_negative_polarity         31935 non-null  float64\n",
            " 53  max_negative_polarity         31935 non-null  float64\n",
            " 54  title_subjectivity            31935 non-null  float64\n",
            " 55  title_sentiment_polarity      31935 non-null  float64\n",
            " 56  abs_title_subjectivity        31935 non-null  float64\n",
            " 57  abs_title_sentiment_polarity  31935 non-null  float64\n",
            " 58  shares                        31935 non-null  float64\n",
            "dtypes: float64(35), int64(24)\n",
            "memory usage: 14.4 MB\n"
          ]
        }
      ],
      "source": [
        "social.info()"
      ]
    },
    {
      "cell_type": "code",
      "execution_count": null,
      "metadata": {
        "colab": {
          "base_uri": "https://localhost:8080/"
        },
        "id": "P9o8pGsvVw_0",
        "outputId": "4822fea2-aecd-41a1-e6f6-2cc493ee6df3"
      },
      "outputs": [
        {
          "data": {
            "text/plain": [
              "(31936, 59)"
            ]
          },
          "execution_count": 81,
          "metadata": {},
          "output_type": "execute_result"
        }
      ],
      "source": [
        "social.shape"
      ]
    },
    {
      "cell_type": "code",
      "execution_count": null,
      "metadata": {
        "colab": {
          "base_uri": "https://localhost:8080/"
        },
        "id": "wp53e1zihMkG",
        "outputId": "f671a77f-75ae-4180-86b4-0dac34d19f31"
      },
      "outputs": [
        {
          "data": {
            "text/plain": [
              "tokens_title                    0\n",
              "tokens_content                  0\n",
              "unique_tokens                   0\n",
              "non_stop_words                  0\n",
              "non_stop_unique_tokens          0\n",
              "hrefs                           0\n",
              "self_refs                       0\n",
              "imgs                            0\n",
              "videos                          0\n",
              "token_length                    0\n",
              "keywords                        0\n",
              "lifestyle                       0\n",
              "entertainment                   0\n",
              "bus                             0\n",
              "socmed                          0\n",
              "tech                            0\n",
              "world                           0\n",
              "kw_min_min                      0\n",
              "kw_max_min                      0\n",
              "kw_avg_min                      0\n",
              "kw_min_max                      0\n",
              "kw_max_max                      0\n",
              "kw_avg_max                      0\n",
              "kw_min_avg                      0\n",
              "kw_max_avg                      0\n",
              "kw_avg_avg                      0\n",
              "self_reference_min_shares       0\n",
              "self_reference_max_shares       0\n",
              "self_reference_avg_shares       0\n",
              "monday                          0\n",
              "tuesday                         0\n",
              "wednesday                       0\n",
              "thursday                        0\n",
              "friday                          0\n",
              "saturday                        0\n",
              "sunday                          0\n",
              "is_weekend                      0\n",
              "LDA_00                          0\n",
              "LDA_01                          0\n",
              "LDA_02                          0\n",
              "LDA_03                          0\n",
              "LDA_04                          1\n",
              "subjectivity                    1\n",
              "sentiment_polarity              1\n",
              "global_rate_positive_words      1\n",
              "global_rate_negative_words      1\n",
              "rate_positive_words             1\n",
              "rate_negative_words             1\n",
              "avg_positive_polarity           1\n",
              "min_positive_polarity           1\n",
              "max_positive_polarity           1\n",
              "avg_negative_polarity           1\n",
              "min_negative_polarity           1\n",
              "max_negative_polarity           1\n",
              "title_subjectivity              1\n",
              "title_sentiment_polarity        1\n",
              "abs_title_subjectivity          1\n",
              "abs_title_sentiment_polarity    1\n",
              "shares                          1\n",
              "dtype: int64"
            ]
          },
          "execution_count": 82,
          "metadata": {},
          "output_type": "execute_result"
        }
      ],
      "source": [
        "social.isnull().sum()"
      ]
    },
    {
      "attachments": {},
      "cell_type": "markdown",
      "metadata": {
        "id": "uB5CWciQ2fqw"
      },
      "source": [
        "### **PLOTTING**"
      ]
    },
    {
      "cell_type": "code",
      "execution_count": 6,
      "metadata": {
        "colab": {
          "base_uri": "https://localhost:8080/",
          "height": 531
        },
        "id": "hM_Sc-K8hbQA",
        "outputId": "9dc00c26-d6e4-4eb4-d504-0e1e713aa75b"
      },
      "outputs": [
        {
          "data": {
            "image/png": "[encoded data removed]",
            "text/plain": [
              "<Figure size 640x480 with 1 Axes>"
            ]
          },
          "metadata": {},
          "output_type": "display_data"
        },
        {
          "data": {
            "image/png": "[encoded data removed]",
            "text/plain": [
              "<Figure size 640x480 with 1 Axes>"
            ]
          },
          "metadata": {},
          "output_type": "display_data"
        }
      ],
      "source": [
        "import matplotlib.pyplot as plt\n",
        "\n",
        "# Histogram of the 'tokens_title' column\n",
        "social['tokens_title'].plot(kind = 'hist')\n",
        "plt.show()\n",
        "\n",
        "# Scatter plot of 'tokens_title' and 'shares' columns\n",
        "social.plot(x = 'tokens_title', y = 'shares', kind = 'scatter')\n",
        "plt.show()"
      ]
    },
    {
      "cell_type": "code",
      "execution_count": null,
      "metadata": {
        "colab": {
          "base_uri": "https://localhost:8080/",
          "height": 296
        },
        "id": "rNbZigIFsWWx",
        "outputId": "e6577b09-b908-4893-dbee-af021f3b7a81"
      },
      "outputs": [
        {
          "data": {
            "text/plain": [
              "<matplotlib.axes._subplots.AxesSubplot at 0x7f0585a9d310>"
            ]
          },
          "execution_count": 84,
          "metadata": {},
          "output_type": "execute_result"
        },
        {
          "data": {
            "image/png": "[encoded data removed]",
            "text/plain": [
              "<Figure size 432x288 with 1 Axes>"
            ]
          },
          "metadata": {
            "needs_background": "light"
          },
          "output_type": "display_data"
        }
      ],
      "source": [
        "# Boxplot of the 'shares' column\n",
        "sns.boxplot(x = 'shares', data = social)"
      ]
    },
    {
      "cell_type": "code",
      "execution_count": null,
      "metadata": {
        "colab": {
          "base_uri": "https://localhost:8080/",
          "height": 386
        },
        "id": "CN5ICKdysWWy",
        "outputId": "6de0148f-de3d-440f-9ed2-487af0b0a73a"
      },
      "outputs": [
        {
          "data": {
            "text/plain": [
              "<seaborn.axisgrid.FacetGrid at 0x7f0585ad3f10>"
            ]
          },
          "execution_count": 85,
          "metadata": {},
          "output_type": "execute_result"
        },
        {
          "data": {
            "image/png": "[encoded data removed]",
            "text/plain": [
              "<Figure size 360x360 with 1 Axes>"
            ]
          },
          "metadata": {
            "needs_background": "light"
          },
          "output_type": "display_data"
        }
      ],
      "source": [
        "# Boxplot of 'shares' by 'weekend'\n",
        "sns.catplot(x = 'is_weekend', y = 'shares', data = social, kind = 'box')"
      ]
    },
    {
      "attachments": {},
      "cell_type": "markdown",
      "metadata": {
        "id": "WrOFPa5ggf0S"
      },
      "source": [
        "The Correlation Matrix and It's Plot"
      ]
    },
    {
      "cell_type": "code",
      "execution_count": null,
      "metadata": {
        "colab": {
          "base_uri": "https://localhost:8080/"
        },
        "id": "E_RVGbb5gf0S",
        "outputId": "582dfadb-3450-4f10-b5c8-d83e5a998c50"
      },
      "outputs": [
        {
          "name": "stdout",
          "output_type": "stream",
          "text": [
            "                              tokens_title  tokens_content  unique_tokens  \\\n",
            "tokens_title                      1.000000        0.018468      -0.003718   \n",
            "tokens_content                    0.018468        1.000000      -0.005004   \n",
            "unique_tokens                    -0.003718       -0.005004       1.000000   \n",
            "non_stop_words                   -0.003463        0.014974       0.999645   \n",
            "non_stop_unique_tokens           -0.003633       -0.001390       0.999898   \n",
            "hrefs                            -0.048788        0.435839      -0.006756   \n",
            "self_refs                         0.000317        0.311552       0.005046   \n",
            "imgs                              0.010872        0.368154       0.020079   \n",
            "videos                            0.058613        0.089750      -0.000787   \n",
            "token_length                     -0.049641        0.094259       0.016533   \n",
            "keywords                          0.003786        0.087634      -0.003841   \n",
            "lifestyle                        -0.065572        0.036011      -0.002222   \n",
            "entertainment                     0.142717        0.056380       0.011980   \n",
            "bus                              -0.012591       -0.012040      -0.001685   \n",
            "socmed                           -0.087570        0.041014      -0.002014   \n",
            "tech                             -0.043254        0.020936      -0.003731   \n",
            "world                             0.030660        0.041829      -0.005627   \n",
            "kw_min_min                       -0.090536       -0.060381      -0.000173   \n",
            "kw_max_min                       -0.001551        0.002398      -0.000572   \n",
            "kw_avg_min                       -0.021431       -0.002692      -0.001452   \n",
            "kw_min_max                        0.004909       -0.013377       0.001740   \n",
            "kw_max_max                        0.099347        0.065644       0.000297   \n",
            "kw_avg_max                        0.097372       -0.066524       0.005501   \n",
            "kw_min_avg                       -0.013161       -0.006400       0.006954   \n",
            "kw_max_avg                        0.010071       -0.016886      -0.001592   \n",
            "kw_avg_avg                        0.004564       -0.046544       0.000231   \n",
            "self_reference_min_shares        -0.004087       -0.032002       0.000256   \n",
            "self_reference_max_shares         0.006343        0.026387      -0.001165   \n",
            "self_reference_avg_shares         0.005087       -0.014278       0.001030   \n",
            "monday                            0.006873       -0.002673      -0.002231   \n",
            "tuesday                           0.008576       -0.000979       0.011805   \n",
            "wednesday                         0.014527       -0.016562      -0.002482   \n",
            "thursday                         -0.014962       -0.009934      -0.002519   \n",
            "friday                           -0.007700       -0.013996      -0.001685   \n",
            "saturday                         -0.020806        0.032197      -0.002923   \n",
            "sunday                            0.007555        0.034822      -0.002080   \n",
            "is_weekend                       -0.009117        0.049175      -0.003649   \n",
            "LDA_00                           -0.059487        0.021704      -0.004103   \n",
            "LDA_01                            0.067432       -0.016492      -0.001865   \n",
            "LDA_02                            0.028993        0.074058      -0.007610   \n",
            "LDA_03                            0.044476       -0.109595      -0.000825   \n",
            "LDA_04                           -0.066957        0.032331      -0.005992   \n",
            "subjectivity                     -0.030467        0.064569      -0.014126   \n",
            "sentiment_polarity               -0.056143        0.003513      -0.003516   \n",
            "global_rate_positive_words       -0.039258        0.091807      -0.007538   \n",
            "global_rate_negative_words        0.028841        0.085163      -0.005690   \n",
            "rate_positive_words              -0.042333        0.041106      -0.013632   \n",
            "rate_negative_words               0.042985        0.063493      -0.007580   \n",
            "avg_positive_polarity            -0.018600        0.079191      -0.012510   \n",
            "min_positive_polarity            -0.004014       -0.292038       0.004277   \n",
            "max_positive_polarity             0.002422        0.393680      -0.019764   \n",
            "avg_negative_polarity            -0.029143       -0.094304       0.008154   \n",
            "min_negative_polarity            -0.032034       -0.427779       0.015182   \n",
            "max_negative_polarity            -0.002885        0.245861      -0.002948   \n",
            "title_subjectivity                0.079671        0.006968      -0.004527   \n",
            "title_sentiment_polarity          0.002628        0.030046      -0.002610   \n",
            "abs_title_subjectivity           -0.151954        0.007236      -0.010484   \n",
            "abs_title_sentiment_polarity      0.044317        0.016991      -0.004139   \n",
            "shares                            0.008993        0.012365       0.001128   \n",
            "\n",
            "                              non_stop_words  non_stop_unique_tokens  \\\n",
            "tokens_title                       -0.003463               -0.003633   \n",
            "tokens_content                      0.014974               -0.001390   \n",
            "unique_tokens                       0.999645                0.999898   \n",
            "non_stop_words                      1.000000                0.999606   \n",
            "non_stop_unique_tokens              0.999606                1.000000   \n",
            "hrefs                               0.002411               -0.007866   \n",
            "self_refs                           0.011493                0.005363   \n",
            "imgs                                0.029287                0.015708   \n",
            "videos                             -0.001290               -0.001368   \n",
            "token_length                        0.019109                0.020347   \n",
            "keywords                           -0.001422               -0.004155   \n",
            "lifestyle                          -0.001017               -0.001065   \n",
            "entertainment                       0.012007                0.011273   \n",
            "bus                                -0.001515                0.000015   \n",
            "socmed                             -0.001020               -0.001781   \n",
            "tech                               -0.001733               -0.002683   \n",
            "world                              -0.003579               -0.004357   \n",
            "kw_min_min                         -0.001995                0.000037   \n",
            "kw_max_min                         -0.000550               -0.000548   \n",
            "kw_avg_min                         -0.001468               -0.001286   \n",
            "kw_min_max                          0.000910                0.001434   \n",
            "kw_max_max                          0.002177                0.000093   \n",
            "kw_avg_max                          0.002705                0.004019   \n",
            "kw_min_avg                          0.006138                0.005554   \n",
            "kw_max_avg                         -0.002392               -0.002646   \n",
            "kw_avg_avg                         -0.001929               -0.002302   \n",
            "self_reference_min_shares          -0.000405                0.000070   \n",
            "self_reference_max_shares          -0.000782               -0.001174   \n",
            "self_reference_avg_shares           0.000686                0.000884   \n",
            "monday                             -0.002278               -0.002203   \n",
            "tuesday                             0.011867                0.011803   \n",
            "wednesday                          -0.002741               -0.002324   \n",
            "thursday                           -0.002662               -0.002513   \n",
            "friday                             -0.002157               -0.001558   \n",
            "saturday                           -0.002023               -0.003010   \n",
            "sunday                             -0.001691               -0.002463   \n",
            "is_weekend                         -0.002715               -0.004000   \n",
            "LDA_00                             -0.003016               -0.002052   \n",
            "LDA_01                             -0.003935               -0.002366   \n",
            "LDA_02                             -0.004831               -0.006270   \n",
            "LDA_03                             -0.005468               -0.005259   \n",
            "LDA_04                             -0.003416               -0.004330   \n",
            "subjectivity                       -0.013490               -0.011720   \n",
            "sentiment_polarity                 -0.003994               -0.002940   \n",
            "global_rate_positive_words         -0.007488               -0.004681   \n",
            "global_rate_negative_words         -0.004787               -0.003962   \n",
            "rate_positive_words                -0.012580               -0.010649   \n",
            "rate_negative_words                -0.005811               -0.006140   \n",
            "avg_positive_polarity              -0.011690               -0.010316   \n",
            "min_positive_polarity              -0.004197                0.002395   \n",
            "max_positive_polarity              -0.010344               -0.015683   \n",
            "avg_negative_polarity               0.006483                0.006698   \n",
            "min_negative_polarity               0.005686                0.011566   \n",
            "max_negative_polarity               0.003556               -0.001536   \n",
            "title_subjectivity                 -0.005186               -0.005508   \n",
            "title_sentiment_polarity           -0.001861               -0.003116   \n",
            "abs_title_subjectivity             -0.009622               -0.009871   \n",
            "abs_title_sentiment_polarity       -0.004248               -0.005091   \n",
            "shares                              0.001060                0.000705   \n",
            "\n",
            "                                 hrefs  self_refs      imgs    videos  \\\n",
            "tokens_title                 -0.048788   0.000317  0.010872  0.058613   \n",
            "tokens_content                0.435839   0.311552  0.368154  0.089750   \n",
            "unique_tokens                -0.006756   0.005046  0.020079 -0.000787   \n",
            "non_stop_words                0.002411   0.011493  0.029287 -0.001290   \n",
            "non_stop_unique_tokens       -0.007866   0.005363  0.015708 -0.001368   \n",
            "hrefs                         1.000000   0.404267  0.361493  0.118195   \n",
            "self_refs                     0.404267   1.000000  0.248462  0.056245   \n",
            "imgs                          0.361493   0.248462  1.000000 -0.071444   \n",
            "videos                        0.118195   0.056245 -0.071444  1.000000   \n",
            "token_length                  0.189649   0.077709 -0.002539 -0.007249   \n",
            "keywords                      0.131263   0.094232  0.074238 -0.014181   \n",
            "lifestyle                     0.045465  -0.051447  0.001390 -0.047540   \n",
            "entertainment                -0.001157   0.024604  0.111176  0.129154   \n",
            "bus                          -0.070991  -0.071704 -0.151474 -0.064449   \n",
            "socmed                        0.055005   0.095227 -0.008524 -0.018044   \n",
            "tech                         -0.071972   0.149981 -0.014739 -0.098699   \n",
            "world                        -0.041464  -0.106565 -0.101523 -0.084460   \n",
            "kw_min_min                   -0.058562  -0.030085 -0.057654  0.014926   \n",
            "kw_max_min                    0.014492  -0.001432  0.000370  0.005714   \n",
            "kw_avg_min                    0.005471  -0.005659 -0.010564 -0.004239   \n",
            "kw_min_max                   -0.012850  -0.022484  0.007256  0.045112   \n",
            "kw_max_max                    0.068756   0.020186  0.067128 -0.004807   \n",
            "kw_avg_max                    0.016181  -0.051994  0.034999  0.156181   \n",
            "kw_min_avg                    0.071315   0.045160  0.092820  0.057053   \n",
            "kw_max_avg                    0.080839  -0.009648  0.064578  0.053582   \n",
            "kw_avg_avg                    0.148705  -0.007649  0.151865  0.121153   \n",
            "self_reference_min_shares    -0.007424  -0.033403  0.004882 -0.001917   \n",
            "self_reference_max_shares     0.079188   0.122298  0.033027  0.078614   \n",
            "self_reference_avg_shares     0.022945   0.017193  0.018105  0.037563   \n",
            "monday                       -0.001274   0.019421  0.001753  0.011926   \n",
            "tuesday                      -0.008199  -0.001552 -0.004169  0.006945   \n",
            "wednesday                    -0.033408  -0.022558 -0.024153 -0.003214   \n",
            "thursday                     -0.013013  -0.018497 -0.011938 -0.006621   \n",
            "friday                       -0.004526  -0.022709 -0.008519  0.006489   \n",
            "saturday                      0.053056   0.047192  0.026810 -0.008963   \n",
            "sunday                        0.041600   0.023444  0.045458 -0.013559   \n",
            "is_weekend                    0.069137   0.051273  0.053359 -0.016603   \n",
            "LDA_00                       -0.033225  -0.035339 -0.163571 -0.071627   \n",
            "LDA_01                       -0.048237   0.000511  0.057281  0.007719   \n",
            "LDA_02                       -0.019208  -0.077700 -0.087478 -0.095934   \n",
            "LDA_03                        0.154249  -0.019433  0.221588  0.285315   \n",
            "LDA_04                       -0.069220   0.123459 -0.032417 -0.134763   \n",
            "subjectivity                  0.174081   0.066891  0.059653  0.091703   \n",
            "sentiment_polarity            0.067692   0.070976 -0.002468 -0.029336   \n",
            "global_rate_positive_words    0.028426   0.090405 -0.071585  0.058885   \n",
            "global_rate_negative_words    0.016020  -0.011490  0.025792  0.162200   \n",
            "rate_positive_words           0.051334   0.101861 -0.065030 -0.054204   \n",
            "rate_negative_words           0.036758  -0.031661  0.046199  0.075838   \n",
            "avg_positive_polarity         0.155904   0.054707  0.081403  0.099551   \n",
            "min_positive_polarity        -0.110376  -0.101667 -0.041475 -0.006427   \n",
            "max_positive_polarity         0.276050   0.170293  0.152635  0.130420   \n",
            "avg_negative_polarity        -0.133495  -0.032968 -0.067509 -0.115784   \n",
            "min_negative_polarity        -0.263098  -0.111923 -0.144020 -0.137808   \n",
            "max_negative_polarity         0.079938   0.062850  0.057341  0.026236   \n",
            "title_subjectivity            0.048763  -0.013636  0.060374  0.061319   \n",
            "title_sentiment_polarity      0.037724   0.021981  0.045124  0.019968   \n",
            "abs_title_subjectivity        0.009588   0.010179 -0.014194 -0.021697   \n",
            "abs_title_sentiment_polarity  0.058907  -0.010419  0.064777  0.053548   \n",
            "shares                        0.051762  -0.001709  0.040676  0.027701   \n",
            "\n",
            "                              token_length  ...  min_positive_polarity  \\\n",
            "tokens_title                     -0.049641  ...              -0.004014   \n",
            "tokens_content                    0.094259  ...              -0.292038   \n",
            "unique_tokens                     0.016533  ...               0.004277   \n",
            "non_stop_words                    0.019109  ...              -0.004197   \n",
            "non_stop_unique_tokens            0.020347  ...               0.002395   \n",
            "hrefs                             0.189649  ...              -0.110376   \n",
            "self_refs                         0.077709  ...              -0.101667   \n",
            "imgs                             -0.002539  ...              -0.041475   \n",
            "videos                           -0.007249  ...              -0.006427   \n",
            "token_length                      1.000000  ...               0.151278   \n",
            "keywords                         -0.011595  ...              -0.019681   \n",
            "lifestyle                        -0.005152  ...              -0.006727   \n",
            "entertainment                    -0.058497  ...              -0.017999   \n",
            "bus                               0.056807  ...              -0.065324   \n",
            "socmed                            0.009690  ...              -0.074419   \n",
            "tech                             -0.021907  ...               0.015791   \n",
            "world                             0.066004  ...              -0.050949   \n",
            "kw_min_min                        0.002509  ...               0.012646   \n",
            "kw_max_min                        0.002872  ...               0.004820   \n",
            "kw_avg_min                        0.004707  ...               0.001013   \n",
            "kw_min_max                       -0.008599  ...               0.013980   \n",
            "kw_max_max                       -0.004846  ...              -0.013135   \n",
            "kw_avg_max                       -0.027590  ...               0.046436   \n",
            "kw_min_avg                       -0.027806  ...               0.030846   \n",
            "kw_max_avg                       -0.018777  ...               0.027321   \n",
            "kw_avg_avg                       -0.048590  ...               0.070957   \n",
            "self_reference_min_shares         0.019152  ...               0.022300   \n",
            "self_reference_max_shares         0.024804  ...              -0.011523   \n",
            "self_reference_avg_shares         0.025027  ...               0.009437   \n",
            "monday                            0.004109  ...              -0.002007   \n",
            "tuesday                           0.005040  ...              -0.005581   \n",
            "wednesday                        -0.001057  ...              -0.001893   \n",
            "thursday                          0.004322  ...               0.003496   \n",
            "friday                            0.004430  ...               0.017450   \n",
            "saturday                         -0.025822  ...              -0.020616   \n",
            "sunday                           -0.000403  ...               0.004478   \n",
            "is_weekend                       -0.018688  ...              -0.011301   \n",
            "LDA_00                            0.055542  ...              -0.124259   \n",
            "LDA_01                           -0.052311  ...               0.025239   \n",
            "LDA_02                            0.075757  ...              -0.065106   \n",
            "LDA_03                           -0.062529  ...               0.146304   \n",
            "LDA_04                           -0.020187  ...               0.010251   \n",
            "subjectivity                      0.433130  ...               0.192584   \n",
            "sentiment_polarity                0.109459  ...               0.058995   \n",
            "global_rate_positive_words        0.195883  ...              -0.167721   \n",
            "global_rate_negative_words        0.138011  ...               0.036522   \n",
            "rate_positive_words               0.423243  ...              -0.033423   \n",
            "rate_negative_words               0.225887  ...               0.167456   \n",
            "avg_positive_polarity             0.385243  ...               0.435902   \n",
            "min_positive_polarity             0.151278  ...               1.000000   \n",
            "max_positive_polarity             0.317543  ...              -0.062651   \n",
            "avg_negative_polarity            -0.212909  ...              -0.022365   \n",
            "min_negative_polarity            -0.174316  ...               0.132606   \n",
            "max_negative_polarity            -0.135611  ...              -0.161768   \n",
            "title_subjectivity               -0.027742  ...               0.015578   \n",
            "title_sentiment_polarity         -0.021476  ...              -0.004058   \n",
            "abs_title_subjectivity            0.032228  ...               0.015241   \n",
            "abs_title_sentiment_polarity     -0.030023  ...               0.016205   \n",
            "shares                           -0.005086  ...               0.001200   \n",
            "\n",
            "                              max_positive_polarity  avg_negative_polarity  \\\n",
            "tokens_title                               0.002422              -0.029143   \n",
            "tokens_content                             0.393680              -0.094304   \n",
            "unique_tokens                             -0.019764               0.008154   \n",
            "non_stop_words                            -0.010344               0.006483   \n",
            "non_stop_unique_tokens                    -0.015683               0.006698   \n",
            "hrefs                                      0.276050              -0.133495   \n",
            "self_refs                                  0.170293              -0.032968   \n",
            "imgs                                       0.152635              -0.067509   \n",
            "videos                                     0.130420              -0.115784   \n",
            "token_length                               0.317543              -0.212909   \n",
            "keywords                                   0.075972               0.014328   \n",
            "lifestyle                                  0.058944               0.000643   \n",
            "entertainment                              0.073728              -0.126689   \n",
            "bus                                        0.000463               0.071395   \n",
            "socmed                                     0.012087               0.010647   \n",
            "tech                                      -0.000661               0.138857   \n",
            "world                                     -0.136497               0.044773   \n",
            "kw_min_min                                -0.004963               0.027483   \n",
            "kw_max_min                                 0.012527              -0.009046   \n",
            "kw_avg_min                                 0.015327              -0.003213   \n",
            "kw_min_max                                -0.002655              -0.019407   \n",
            "kw_max_max                                 0.005589              -0.029574   \n",
            "kw_avg_max                                -0.016963              -0.085447   \n",
            "kw_min_avg                                 0.017139              -0.048152   \n",
            "kw_max_avg                                 0.031502              -0.064597   \n",
            "kw_avg_avg                                 0.053848              -0.124219   \n",
            "self_reference_min_shares                 -0.004612              -0.037535   \n",
            "self_reference_max_shares                  0.028783              -0.052502   \n",
            "self_reference_avg_shares                  0.010367              -0.051347   \n",
            "monday                                     0.007077              -0.001519   \n",
            "tuesday                                   -0.002447               0.007253   \n",
            "wednesday                                 -0.015830               0.011667   \n",
            "thursday                                  -0.015811               0.012559   \n",
            "friday                                    -0.007923              -0.013643   \n",
            "saturday                                   0.026617              -0.009529   \n",
            "sunday                                     0.027516              -0.018079   \n",
            "is_weekend                                 0.039695              -0.020414   \n",
            "LDA_00                                     0.027334               0.054405   \n",
            "LDA_01                                     0.027021              -0.096599   \n",
            "LDA_02                                    -0.129612               0.059189   \n",
            "LDA_03                                     0.066917              -0.186056   \n",
            "LDA_04                                     0.009108               0.152073   \n",
            "subjectivity                               0.412141              -0.378205   \n",
            "sentiment_polarity                         0.401243               0.278153   \n",
            "global_rate_positive_words                 0.402527              -0.067488   \n",
            "global_rate_negative_words                 0.115837              -0.326428   \n",
            "rate_positive_words                        0.331087               0.100608   \n",
            "rate_negative_words                       -0.050784              -0.313597   \n",
            "avg_positive_polarity                      0.643772              -0.195711   \n",
            "min_positive_polarity                     -0.062651              -0.022365   \n",
            "max_positive_polarity                      1.000000              -0.199487   \n",
            "avg_negative_polarity                     -0.199487               1.000000   \n",
            "min_negative_polarity                     -0.313513               0.736147   \n",
            "max_negative_polarity                      0.047850               0.576066   \n",
            "title_subjectivity                         0.070576              -0.087868   \n",
            "title_sentiment_polarity                   0.081567               0.090477   \n",
            "abs_title_subjectivity                    -0.017471              -0.006811   \n",
            "abs_title_sentiment_polarity               0.100122              -0.084325   \n",
            "shares                                     0.021659              -0.044207   \n",
            "\n",
            "                              min_negative_polarity  max_negative_polarity  \\\n",
            "tokens_title                              -0.032034              -0.002885   \n",
            "tokens_content                            -0.427779               0.245861   \n",
            "unique_tokens                              0.015182              -0.002948   \n",
            "non_stop_words                             0.005686               0.003556   \n",
            "non_stop_unique_tokens                     0.011566              -0.001536   \n",
            "hrefs                                     -0.263098               0.079938   \n",
            "self_refs                                 -0.111923               0.062850   \n",
            "imgs                                      -0.144020               0.057341   \n",
            "videos                                    -0.137808               0.026236   \n",
            "token_length                              -0.174316              -0.135611   \n",
            "keywords                                  -0.018246               0.035289   \n",
            "lifestyle                                 -0.016988               0.016303   \n",
            "entertainment                             -0.106182              -0.015096   \n",
            "bus                                        0.072471               0.003248   \n",
            "socmed                                    -0.000340              -0.005071   \n",
            "tech                                       0.133876               0.038001   \n",
            "world                                     -0.049921               0.073680   \n",
            "kw_min_min                                 0.057359              -0.019172   \n",
            "kw_max_min                                -0.008031              -0.000150   \n",
            "kw_avg_min                                -0.000653              -0.002231   \n",
            "kw_min_max                                -0.010566              -0.015646   \n",
            "kw_max_max                                -0.062517               0.019865   \n",
            "kw_avg_max                                -0.043360              -0.054048   \n",
            "kw_min_avg                                -0.031166              -0.023350   \n",
            "kw_max_avg                                -0.042025              -0.029506   \n",
            "kw_avg_avg                                -0.072414              -0.065403   \n",
            "self_reference_min_shares                 -0.009557              -0.045746   \n",
            "self_reference_max_shares                 -0.047052              -0.020571   \n",
            "self_reference_avg_shares                 -0.027810              -0.041597   \n",
            "monday                                     0.003987               0.001065   \n",
            "tuesday                                    0.006406              -0.000465   \n",
            "wednesday                                  0.013175               0.002066   \n",
            "thursday                                   0.011765               0.003083   \n",
            "friday                                    -0.006226              -0.013964   \n",
            "saturday                                  -0.026445               0.014596   \n",
            "sunday                                    -0.020194              -0.003242   \n",
            "is_weekend                                -0.034052               0.007948   \n",
            "LDA_00                                     0.045982               0.002863   \n",
            "LDA_01                                    -0.051250              -0.040202   \n",
            "LDA_02                                    -0.048783               0.084517   \n",
            "LDA_03                                    -0.092298              -0.103986   \n",
            "LDA_04                                     0.133127               0.052117   \n",
            "subjectivity                              -0.287655              -0.176760   \n",
            "sentiment_polarity                         0.326548              -0.019483   \n",
            "global_rate_positive_words                -0.058518              -0.037640   \n",
            "global_rate_negative_words                -0.455136               0.089566   \n",
            "rate_positive_words                        0.220651              -0.144849   \n",
            "rate_negative_words                       -0.423476               0.052254   \n",
            "avg_positive_polarity                     -0.160558              -0.091212   \n",
            "min_positive_polarity                      0.132606              -0.161768   \n",
            "max_positive_polarity                     -0.313513               0.047850   \n",
            "avg_negative_polarity                      0.736147               0.576066   \n",
            "min_negative_polarity                      1.000000               0.059404   \n",
            "max_negative_polarity                      0.059404               1.000000   \n",
            "title_subjectivity                        -0.067437              -0.021756   \n",
            "title_sentiment_polarity                   0.078712               0.001924   \n",
            "abs_title_subjectivity                    -0.013005               0.000871   \n",
            "abs_title_sentiment_polarity              -0.066252              -0.019227   \n",
            "shares                                    -0.032058              -0.023037   \n",
            "\n",
            "                              title_subjectivity  title_sentiment_polarity  \\\n",
            "tokens_title                            0.079671                  0.002628   \n",
            "tokens_content                          0.006968                  0.030046   \n",
            "unique_tokens                          -0.004527                 -0.002610   \n",
            "non_stop_words                         -0.005186                 -0.001861   \n",
            "non_stop_unique_tokens                 -0.005508                 -0.003116   \n",
            "hrefs                                   0.048763                  0.037724   \n",
            "self_refs                              -0.013636                  0.021981   \n",
            "imgs                                    0.060374                  0.045124   \n",
            "videos                                  0.061319                  0.019968   \n",
            "token_length                           -0.027742                 -0.021476   \n",
            "keywords                                0.012445                  0.029267   \n",
            "lifestyle                              -0.001214                  0.033540   \n",
            "entertainment                           0.047088                 -0.016502   \n",
            "bus                                    -0.043060                  0.016320   \n",
            "socmed                                 -0.020153                  0.020857   \n",
            "tech                                   -0.044769                  0.024702   \n",
            "world                                  -0.063361                 -0.077587   \n",
            "kw_min_min                             -0.002473                  0.032900   \n",
            "kw_max_min                              0.015401                  0.008776   \n",
            "kw_avg_min                              0.011815                  0.010838   \n",
            "kw_min_max                              0.024443                  0.006756   \n",
            "kw_max_max                              0.003220                 -0.029053   \n",
            "kw_avg_max                              0.048331                 -0.012972   \n",
            "kw_min_avg                              0.042369                  0.022318   \n",
            "kw_max_avg                              0.049516                  0.018883   \n",
            "kw_avg_avg                              0.096843                  0.031184   \n",
            "self_reference_min_shares               0.006433                  0.000747   \n",
            "self_reference_max_shares               0.016495                  0.001402   \n",
            "self_reference_avg_shares               0.012842                 -0.001096   \n",
            "monday                                 -0.008418                 -0.011289   \n",
            "tuesday                                -0.005698                  0.002732   \n",
            "wednesday                              -0.011634                 -0.016997   \n",
            "thursday                                0.001287                 -0.001201   \n",
            "friday                                  0.001196                 -0.004538   \n",
            "saturday                                0.003775                  0.027559   \n",
            "sunday                                  0.031712                  0.020468   \n",
            "is_weekend                              0.026596                  0.035052   \n",
            "LDA_00                                 -0.050334                  0.028040   \n",
            "LDA_01                                  0.060319                 -0.003903   \n",
            "LDA_02                                 -0.076518                 -0.071035   \n",
            "LDA_03                                  0.131242                  0.020353   \n",
            "LDA_04                                 -0.058182                  0.023054   \n",
            "subjectivity                            0.147747                  0.036093   \n",
            "sentiment_polarity                      0.029811                  0.242187   \n",
            "global_rate_positive_words              0.125621                  0.141480   \n",
            "global_rate_negative_words              0.100472                 -0.145312   \n",
            "rate_positive_words                    -0.016357                  0.161505   \n",
            "rate_negative_words                     0.006318                 -0.191873   \n",
            "avg_positive_polarity                   0.075998                  0.083973   \n",
            "min_positive_polarity                   0.015578                 -0.004058   \n",
            "max_positive_polarity                   0.070576                  0.081567   \n",
            "avg_negative_polarity                  -0.087868                  0.090477   \n",
            "min_negative_polarity                  -0.067437                  0.078712   \n",
            "max_negative_polarity                  -0.021756                  0.001924   \n",
            "title_subjectivity                      1.000000                  0.249206   \n",
            "title_sentiment_polarity                0.249206                  1.000000   \n",
            "abs_title_subjectivity                 -0.492996                 -0.246046   \n",
            "abs_title_sentiment_polarity            0.716988                  0.431860   \n",
            "shares                                  0.024547                  0.011053   \n",
            "\n",
            "                              abs_title_subjectivity  \\\n",
            "tokens_title                               -0.151954   \n",
            "tokens_content                              0.007236   \n",
            "unique_tokens                              -0.010484   \n",
            "non_stop_words                             -0.009622   \n",
            "non_stop_unique_tokens                     -0.009871   \n",
            "hrefs                                       0.009588   \n",
            "self_refs                                   0.010179   \n",
            "imgs                                       -0.014194   \n",
            "videos                                     -0.021697   \n",
            "token_length                                0.032228   \n",
            "keywords                                   -0.011276   \n",
            "lifestyle                                   0.010117   \n",
            "entertainment                              -0.047465   \n",
            "bus                                        -0.004213   \n",
            "socmed                                      0.013668   \n",
            "tech                                        0.008313   \n",
            "world                                       0.056210   \n",
            "kw_min_min                                  0.008694   \n",
            "kw_max_min                                 -0.000119   \n",
            "kw_avg_min                                  0.004246   \n",
            "kw_min_max                                 -0.010639   \n",
            "kw_max_max                                 -0.011536   \n",
            "kw_avg_max                                 -0.015523   \n",
            "kw_min_avg                                 -0.017680   \n",
            "kw_max_avg                                 -0.014903   \n",
            "kw_avg_avg                                 -0.026680   \n",
            "self_reference_min_shares                   0.003937   \n",
            "self_reference_max_shares                  -0.004989   \n",
            "self_reference_avg_shares                  -0.000704   \n",
            "monday                                     -0.002378   \n",
            "tuesday                                     0.011798   \n",
            "wednesday                                   0.010582   \n",
            "thursday                                    0.008004   \n",
            "friday                                      0.010380   \n",
            "saturday                                   -0.022032   \n",
            "sunday                                     -0.036493   \n",
            "is_weekend                                 -0.043198   \n",
            "LDA_00                                     -0.000315   \n",
            "LDA_01                                     -0.079125   \n",
            "LDA_02                                      0.062234   \n",
            "LDA_03                                     -0.012124   \n",
            "LDA_04                                      0.013676   \n",
            "subjectivity                               -0.003187   \n",
            "sentiment_polarity                         -0.030180   \n",
            "global_rate_positive_words                 -0.149647   \n",
            "global_rate_negative_words                 -0.056610   \n",
            "rate_positive_words                        -0.021765   \n",
            "rate_negative_words                         0.043048   \n",
            "avg_positive_polarity                       0.016171   \n",
            "min_positive_polarity                       0.015241   \n",
            "max_positive_polarity                      -0.017471   \n",
            "avg_negative_polarity                      -0.006811   \n",
            "min_negative_polarity                      -0.013005   \n",
            "max_negative_polarity                       0.000871   \n",
            "title_subjectivity                         -0.492996   \n",
            "title_sentiment_polarity                   -0.246046   \n",
            "abs_title_subjectivity                      1.000000   \n",
            "abs_title_sentiment_polarity               -0.408338   \n",
            "shares                                      0.002155   \n",
            "\n",
            "                              abs_title_sentiment_polarity    shares  \n",
            "tokens_title                                      0.044317  0.008993  \n",
            "tokens_content                                    0.016991  0.012365  \n",
            "unique_tokens                                    -0.004139  0.001128  \n",
            "non_stop_words                                   -0.004248  0.001060  \n",
            "non_stop_unique_tokens                           -0.005091  0.000705  \n",
            "hrefs                                             0.058907  0.051762  \n",
            "self_refs                                        -0.010419 -0.001709  \n",
            "imgs                                              0.064777  0.040676  \n",
            "videos                                            0.053548  0.027701  \n",
            "token_length                                     -0.030023 -0.005086  \n",
            "keywords                                          0.021481  0.016310  \n",
            "lifestyle                                         0.014334  0.006980  \n",
            "entertainment                                     0.034741 -0.016099  \n",
            "bus                                              -0.033874 -0.011740  \n",
            "socmed                                           -0.007172  0.004968  \n",
            "tech                                             -0.045937 -0.014917  \n",
            "world                                            -0.063981 -0.046324  \n",
            "kw_min_min                                        0.009696 -0.004354  \n",
            "kw_max_min                                        0.012242  0.029642  \n",
            "kw_avg_min                                        0.008077  0.029561  \n",
            "kw_min_max                                        0.023229  0.002841  \n",
            "kw_max_max                                       -0.008079  0.011992  \n",
            "kw_avg_max                                        0.036128  0.044911  \n",
            "kw_min_avg                                        0.053789  0.038368  \n",
            "kw_max_avg                                        0.048062  0.061969  \n",
            "kw_avg_avg                                        0.095110  0.107062  \n",
            "self_reference_min_shares                         0.004970  0.060089  \n",
            "self_reference_max_shares                         0.009213  0.049578  \n",
            "self_reference_avg_shares                         0.007224  0.060543  \n",
            "monday                                           -0.007341  0.009775  \n",
            "tuesday                                          -0.005878 -0.007926  \n",
            "wednesday                                        -0.016014 -0.002227  \n",
            "thursday                                         -0.009268 -0.009533  \n",
            "friday                                            0.000969 -0.005077  \n",
            "saturday                                          0.015574  0.017278  \n",
            "sunday                                            0.042361  0.006430  \n",
            "is_weekend                                        0.043025  0.017149  \n",
            "LDA_00                                           -0.031172 -0.002024  \n",
            "LDA_01                                            0.039376 -0.012774  \n",
            "LDA_02                                           -0.081938 -0.054036  \n",
            "LDA_03                                            0.126307  0.080690  \n",
            "LDA_04                                           -0.050198 -0.018678  \n",
            "subjectivity                                      0.116343  0.048237  \n",
            "sentiment_polarity                                0.078586  0.003240  \n",
            "global_rate_positive_words                        0.118817  0.004460  \n",
            "global_rate_negative_words                        0.063658  0.015157  \n",
            "rate_positive_words                               0.005135 -0.007437  \n",
            "rate_negative_words                              -0.020440  0.006965  \n",
            "avg_positive_polarity                             0.124360  0.024334  \n",
            "min_positive_polarity                             0.016205  0.001200  \n",
            "max_positive_polarity                             0.100122  0.021659  \n",
            "avg_negative_polarity                            -0.084325 -0.044207  \n",
            "min_negative_polarity                            -0.066252 -0.032058  \n",
            "max_negative_polarity                            -0.019227 -0.023037  \n",
            "title_subjectivity                                0.716988  0.024547  \n",
            "title_sentiment_polarity                          0.431860  0.011053  \n",
            "abs_title_subjectivity                           -0.408338  0.002155  \n",
            "abs_title_sentiment_polarity                      1.000000  0.029077  \n",
            "shares                                            0.029077  1.000000  \n",
            "\n",
            "[59 rows x 59 columns]\n"
          ]
        }
      ],
      "source": [
        "# Select the numeric columns\n",
        "numeric_columns = social.select_dtypes(include = [np.number])\n",
        "\n",
        "# Calculate the correlation matrix\n",
        "corr = numeric_columns.corr()\n",
        "\n",
        "# Print the correlation matrix\n",
        "print(corr)"
      ]
    },
    {
      "cell_type": "code",
      "execution_count": null,
      "metadata": {
        "colab": {
          "base_uri": "https://localhost:8080/",
          "height": 417
        },
        "id": "MhE5g2-AsWWy",
        "outputId": "0292cbe8-a81a-48b7-aa88-f9855840f3fd"
      },
      "outputs": [
        {
          "data": {
            "text/plain": [
              "<matplotlib.axes._subplots.AxesSubplot at 0x7f05e66a0610>"
            ]
          },
          "execution_count": 87,
          "metadata": {},
          "output_type": "execute_result"
        },
        {
          "data": {
            "image/png": "[encoded data removed]",
            "text/plain": [
              "<Figure size 432x288 with 2 Axes>"
            ]
          },
          "metadata": {
            "needs_background": "light"
          },
          "output_type": "display_data"
        }
      ],
      "source": [
        "# Heatmap of the correlation matrix\n",
        "sns.heatmap(corr)"
      ]
    },
    {
      "attachments": {},
      "cell_type": "markdown",
      "metadata": {},
      "source": [
        "**We computed the correlations between the 'shares' column and other columns in the 'social' dataset using social.corr()['shares']. Then, we created a heatmap of the correlations, displayed it using sns.heatmap(), and used the 'RdBu' colormap with annotations.**"
      ]
    },
    {
      "cell_type": "code",
      "execution_count": null,
      "metadata": {
        "colab": {
          "base_uri": "https://localhost:8080/",
          "height": 286
        },
        "id": "Yxpm8mBxsWWy",
        "outputId": "226f0fd2-ef97-4a00-cf3e-78cb0d0778a3"
      },
      "outputs": [
        {
          "data": {
            "text/plain": [
              "<matplotlib.axes._subplots.AxesSubplot at 0x7f058a3f19d0>"
            ]
          },
          "execution_count": 88,
          "metadata": {},
          "output_type": "execute_result"
        },
        {
          "data": {
            "image/png": "[encoded data removed]",
            "text/plain": [
              "<Figure size 432x288 with 2 Axes>"
            ]
          },
          "metadata": {
            "needs_background": "light"
          },
          "output_type": "display_data"
        }
      ],
      "source": [
        "# Compute the correlations\n",
        "corr_matrix = social.corr()['shares']\n",
        "\n",
        "# Heatmap of the correlations\n",
        "sns.heatmap(np.array(corr_matrix)[:, None], cmap = 'RdBu', annot = True)"
      ]
    },
    {
      "cell_type": "code",
      "execution_count": null,
      "metadata": {
        "colab": {
          "base_uri": "https://localhost:8080/",
          "height": 297
        },
        "id": "km38CEefsWWz",
        "outputId": "fb40dce2-c619-4f4e-a231-684024a4c43b"
      },
      "outputs": [
        {
          "data": {
            "text/plain": [
              "<matplotlib.axes._subplots.AxesSubplot at 0x7f0573a47580>"
            ]
          },
          "execution_count": 89,
          "metadata": {},
          "output_type": "execute_result"
        },
        {
          "data": {
            "image/png": "[encoded data removed]",
            "text/plain": [
              "<Figure size 432x288 with 1 Axes>"
            ]
          },
          "metadata": {
            "needs_background": "light"
          },
          "output_type": "display_data"
        }
      ],
      "source": [
        "# Plot the count of occurrences for the 'weekend' column\n",
        "sns.countplot(x = 'is_weekend', data = social)"
      ]
    },
    {
      "attachments": {},
      "cell_type": "markdown",
      "metadata": {
        "id": "LDrocgfcx8e9"
      },
      "source": [
        "**Remove outlier**\n",
        "**The remove_outliers function removes outliers from a DataFrame by calculating the interquartile range (IQR) for each column and removing rows with values outside the range [q1 - 1.5 * iqr, q3 + 1.5 * iqr]. The function returns a new DataFrame without outliers. In the code, the function is applied to the 'social' DataFrame, resulting in a cleaned DataFrame called social_clean with outliers removed**"
      ]
    },
    {
      "cell_type": "code",
      "execution_count": null,
      "metadata": {
        "id": "qHxbBbpVXnYg"
      },
      "outputs": [],
      "source": [
        "def remove_outliers(df):\n",
        "    df_clean = df.copy()\n",
        "    \n",
        "    # Loop over the columns of the dataframe\n",
        "    for column in df.columns:\n",
        "        # Calculate the interquartile range\n",
        "        q1 = df[column].quantile(0.25)\n",
        "        q3 = df[column].quantile(0.75)\n",
        "        iqr = q3 - q1\n",
        "        \n",
        "        # Skip column if the IQR is 0\n",
        "        if iqr == 0:\n",
        "            continue\n",
        "        \n",
        "        # Remove rows with values outside the range [q1 - 1.5 * iqr, q3 + 1.5 * iqr]\n",
        "        mask = (df[column] >= q1 - 1.5 * iqr) & (df[column] <= q3 + 1.5 * iqr)\n",
        "        df_clean = df_clean[mask]\n",
        "        \n",
        "    # Reset the index of the new dataframe\n",
        "    df_clean = df_clean.reset_index(drop = True)\n",
        "    \n",
        "    return df_clean\n",
        "\n",
        "# Remove outliers from all columns\n",
        "social_clean = remove_outliers(social)"
      ]
    },
    {
      "cell_type": "code",
      "execution_count": null,
      "metadata": {
        "colab": {
          "base_uri": "https://localhost:8080/",
          "height": 296
        },
        "id": "swv-GZ5ZsWWz",
        "outputId": "07894f0b-8078-4036-d30c-c9012f575b88"
      },
      "outputs": [
        {
          "data": {
            "text/plain": [
              "<matplotlib.axes._subplots.AxesSubplot at 0x7f0573a215e0>"
            ]
          },
          "execution_count": 91,
          "metadata": {},
          "output_type": "execute_result"
        },
        {
          "data": {
            "image/png": "[encoded data removed]",
            "text/plain": [
              "<Figure size 432x288 with 1 Axes>"
            ]
          },
          "metadata": {
            "needs_background": "light"
          },
          "output_type": "display_data"
        }
      ],
      "source": [
        "##creates a boxplot to visualize the distribution of the 'shares' column in the cleaned DataFrame social_clean\n",
        "sns.boxplot(social_clean['shares'])"
      ]
    },
    {
      "attachments": {},
      "cell_type": "markdown",
      "metadata": {
        "id": "jOiuC0pbsWWz"
      },
      "source": [
        "**Splitting the data into train, validation, and test sets**\n"
      ]
    },
    {
      "cell_type": "code",
      "execution_count": null,
      "metadata": {
        "id": "aF1rUVcfX3EN"
      },
      "outputs": [],
      "source": [
        "from sklearn.model_selection import train_test_split\n",
        "from sklearn.preprocessing import StandardScaler\n",
        "\n",
        "def generate_sets(df, train_size=0.8, test_size=0.2):\n",
        "    # Selecting the independent variables and the target column\n",
        "    X = df.drop(columns=['shares'])\n",
        "    y = df['shares']\n",
        "    \n",
        "    # Splitting the data into training, validation, and test sets\n",
        "    X_train, X_test, y_train, y_test = train_test_split(X, y, train_size = train_size, test_size = test_size, random_state = 42)\n",
        "    X_train, X_val, y_train, y_val = train_test_split(X_train, y_train, test_size = test_size / (train_size + test_size), random_state = 42)\n",
        "    \n",
        "    \n",
        "    # Scaling the training data using StandardScaler\n",
        "    scaler_X = StandardScaler()\n",
        "    X_train_scaled = scaler_X.fit_transform(X_train)\n",
        "    \n",
        "    scaler_y = StandardScaler()\n",
        "    y_train_scaled = scaler_y.fit_transform(y_train.values.reshape(-1, 1))\n",
        "    \n",
        "    # Scaling the test data using the scalers fitted to the training data\n",
        "    X_test_scaled = scaler_X.transform(X_test)\n",
        "    y_test_scaled = scaler_y.transform(y_test.values.reshape(-1, 1))\n",
        "    \n",
        "    # Scaling the validation data using the scalers fitted to the training data\n",
        "    X_val_scaled = scaler_X.transform(X_val)\n",
        "    y_val_scaled = scaler_y.transform(y_val.values.reshape(-1, 1))\n",
        "    \n",
        "    return X_train_scaled, X_val_scaled, X_test_scaled, y_train_scaled, y_val_scaled, y_test_scaled\n",
        "\n",
        "\n",
        "\n",
        "X_train, X_val, X_test, y_train, y_val, y_test = generate_sets(social)"
      ]
    },
    {
      "attachments": {},
      "cell_type": "markdown",
      "metadata": {
        "id": "M2I6s48bX0vq"
      },
      "source": [
        "**CREATING THE MODEL**"
      ]
    },
    {
      "attachments": {},
      "cell_type": "markdown",
      "metadata": {
        "id": "1PoACgBQsWW0"
      },
      "source": [
        "##### **Neural Network**"
      ]
    },
    {
      "cell_type": "code",
      "execution_count": null,
      "metadata": {
        "colab": {
          "base_uri": "https://localhost:8080/"
        },
        "id": "VqhcyjbBsWW0",
        "outputId": "5ec61f3a-da4b-4eb6-c00c-129309eeed79"
      },
      "outputs": [
        {
          "name": "stdout",
          "output_type": "stream",
          "text": [
            "Epoch 1/10\n",
            "639/639 [==============================] - 2s 2ms/step - loss: 1.1639 - val_loss: 0.5050\n",
            "Epoch 2/10\n",
            "639/639 [==============================] - 1s 2ms/step - loss: 1.0338 - val_loss: 0.4876\n",
            "Epoch 3/10\n",
            "639/639 [==============================] - 1s 2ms/step - loss: 1.0056 - val_loss: 0.4840\n",
            "Epoch 4/10\n",
            "639/639 [==============================] - 1s 2ms/step - loss: 0.9918 - val_loss: 0.4812\n",
            "Epoch 5/10\n",
            "639/639 [==============================] - 1s 2ms/step - loss: 0.9872 - val_loss: 0.4789\n",
            "Epoch 6/10\n",
            "639/639 [==============================] - 1s 2ms/step - loss: 0.9864 - val_loss: 0.4773\n",
            "Epoch 7/10\n",
            "639/639 [==============================] - 1s 2ms/step - loss: 0.9873 - val_loss: 0.4788\n",
            "Epoch 8/10\n",
            "639/639 [==============================] - 1s 2ms/step - loss: 0.9901 - val_loss: 0.4785\n",
            "Epoch 9/10\n",
            "639/639 [==============================] - 1s 2ms/step - loss: 0.9810 - val_loss: 0.4822\n",
            "Epoch 10/10\n",
            "639/639 [==============================] - 1s 2ms/step - loss: 0.9781 - val_loss: 0.4805\n"
          ]
        },
        {
          "data": {
            "text/plain": [
              "<keras.callbacks.History at 0x7f05739bd8b0>"
            ]
          },
          "execution_count": 93,
          "metadata": {},
          "output_type": "execute_result"
        }
      ],
      "source": [
        "from keras.models import Sequential\n",
        "from keras.layers import Dense\n",
        "\n",
        "# Defining the model\n",
        "model = Sequential()\n",
        "\n",
        "# Adding a hidden layer with 15 units and ReLU activation\n",
        "model.add(Dense(units = 15, activation = 'relu', input_shape = (X_train.shape[1],)))\n",
        "\n",
        "# Adding an output layer with 15 unit and linear activation\n",
        "model.add(Dense(units = 15, activation = 'linear'))\n",
        "\n",
        "# Compiling the model with mean squared error loss and Adam optimizer\n",
        "model.compile(loss = 'mean_squared_error', optimizer = 'adam')\n",
        "\n",
        "\n",
        "# Fiting the model to the training data\n",
        "model.fit(X_train, y_train, epochs = 10, batch_size = 32, validation_data = (X_val, y_val))"
      ]
    },
    {
      "attachments": {},
      "cell_type": "markdown",
      "metadata": {
        "id": "SBoUOK-YYIGC"
      },
      "source": [
        "#### **Hyperparamter Tuning**"
      ]
    },
    {
      "cell_type": "code",
      "execution_count": null,
      "metadata": {
        "colab": {
          "base_uri": "https://localhost:8080/"
        },
        "id": "dXM6D8aKvq2t",
        "outputId": "f60d8cdc-c6bb-4f36-886d-a76c5b3eea9b"
      },
      "outputs": [
        {
          "name": "stdout",
          "output_type": "stream",
          "text": [
            "Fitting 10 folds for each of 10 candidates, totalling 100 fits\n",
            "575/575 [==============================] - 2s 2ms/step - loss: 0.9701\n",
            "64/64 [==============================] - 0s 1ms/step - loss: 1.2833\n",
            "575/575 [==============================] - 2s 2ms/step - loss: 1.0869\n",
            "64/64 [==============================] - 0s 1ms/step - loss: 0.2173\n",
            "575/575 [==============================] - 2s 2ms/step - loss: 0.8793\n",
            "64/64 [==============================] - 0s 1ms/step - loss: 2.0775\n",
            "575/575 [==============================] - 2s 2ms/step - loss: 1.0695\n",
            "64/64 [==============================] - 0s 1ms/step - loss: 0.3677\n",
            "575/575 [==============================] - 2s 2ms/step - loss: 0.9233\n",
            "64/64 [==============================] - 0s 1ms/step - loss: 1.6599\n",
            "575/575 [==============================] - 2s 2ms/step - loss: 0.9142\n",
            "64/64 [==============================] - 0s 1ms/step - loss: 1.7267\n",
            "575/575 [==============================] - 2s 2ms/step - loss: 1.0790\n",
            "64/64 [==============================] - 0s 2ms/step - loss: 0.2954\n",
            "575/575 [==============================] - 2s 2ms/step - loss: 0.9206\n",
            "64/64 [==============================] - 0s 1ms/step - loss: 1.6789\n",
            "575/575 [==============================] - 2s 2ms/step - loss: 1.0717\n",
            "64/64 [==============================] - 0s 1ms/step - loss: 0.3618\n",
            "575/575 [==============================] - 2s 2ms/step - loss: 1.0817\n",
            "64/64 [==============================] - 0s 1ms/step - loss: 0.2836\n",
            "575/575 [==============================] - 2s 2ms/step - loss: 0.9656\n",
            "64/64 [==============================] - 0s 1ms/step - loss: 1.2849\n",
            "575/575 [==============================] - 2s 2ms/step - loss: 1.0848\n",
            "64/64 [==============================] - 0s 1ms/step - loss: 0.2245\n",
            "575/575 [==============================] - 2s 2ms/step - loss: 0.8801\n",
            "64/64 [==============================] - 0s 1ms/step - loss: 2.0719\n",
            "575/575 [==============================] - 2s 2ms/step - loss: 1.0699\n",
            "64/64 [==============================] - 0s 1ms/step - loss: 0.3719\n",
            "575/575 [==============================] - 2s 2ms/step - loss: 0.9261\n",
            "64/64 [==============================] - 0s 1ms/step - loss: 1.6481\n",
            "575/575 [==============================] - 2s 2ms/step - loss: 0.9158\n",
            "64/64 [==============================] - 0s 1ms/step - loss: 1.7127\n",
            "575/575 [==============================] - 2s 2ms/step - loss: 1.0763\n",
            "64/64 [==============================] - 0s 1ms/step - loss: 0.3013\n",
            "575/575 [==============================] - 2s 2ms/step - loss: 0.9194\n",
            "64/64 [==============================] - 0s 1ms/step - loss: 1.6712\n",
            "575/575 [==============================] - 2s 2ms/step - loss: 1.0687\n",
            "64/64 [==============================] - 0s 1ms/step - loss: 0.3679\n",
            "575/575 [==============================] - 2s 2ms/step - loss: 1.0768\n",
            "64/64 [==============================] - 0s 1ms/step - loss: 0.2823\n",
            "575/575 [==============================] - 2s 2ms/step - loss: 0.9642\n",
            "64/64 [==============================] - 0s 1ms/step - loss: 1.2861\n",
            "575/575 [==============================] - 2s 2ms/step - loss: 1.0886\n",
            "64/64 [==============================] - 0s 1ms/step - loss: 0.2386\n",
            "575/575 [==============================] - 2s 2ms/step - loss: 0.8788\n",
            "64/64 [==============================] - 0s 2ms/step - loss: 2.0792\n",
            "575/575 [==============================] - 2s 2ms/step - loss: 1.0720\n",
            "64/64 [==============================] - 0s 2ms/step - loss: 0.3486\n",
            "575/575 [==============================] - 2s 2ms/step - loss: 0.9246\n",
            "64/64 [==============================] - 0s 1ms/step - loss: 1.6547\n",
            "575/575 [==============================] - 2s 2ms/step - loss: 0.9170\n",
            "64/64 [==============================] - 0s 1ms/step - loss: 1.7287\n",
            "575/575 [==============================] - 2s 2ms/step - loss: 1.0735\n",
            "64/64 [==============================] - 0s 1ms/step - loss: 0.2962\n",
            "575/575 [==============================] - 2s 2ms/step - loss: 0.9279\n",
            "64/64 [==============================] - 0s 1ms/step - loss: 1.6889\n",
            "575/575 [==============================] - 2s 2ms/step - loss: 1.0763\n",
            "64/64 [==============================] - 0s 1ms/step - loss: 0.3651\n",
            "575/575 [==============================] - 2s 2ms/step - loss: 1.0763\n",
            "64/64 [==============================] - 0s 1ms/step - loss: 0.2830\n",
            "575/575 [==============================] - 1s 2ms/step - loss: 0.9803\n",
            "64/64 [==============================] - 0s 1ms/step - loss: 1.3015\n",
            "575/575 [==============================] - 1s 2ms/step - loss: 1.1066\n",
            "64/64 [==============================] - 0s 1ms/step - loss: 0.2384\n",
            "575/575 [==============================] - 1s 2ms/step - loss: 0.8956\n",
            "64/64 [==============================] - 0s 1ms/step - loss: 2.0922\n",
            "575/575 [==============================] - 1s 2ms/step - loss: 1.0920\n",
            "64/64 [==============================] - 0s 1ms/step - loss: 0.3523\n",
            "575/575 [==============================] - 1s 2ms/step - loss: 0.9661\n",
            "64/64 [==============================] - 0s 1ms/step - loss: 1.6979\n",
            "575/575 [==============================] - 1s 2ms/step - loss: 0.9352\n",
            "64/64 [==============================] - 0s 1ms/step - loss: 1.7512\n",
            "575/575 [==============================] - 1s 2ms/step - loss: 1.0950\n",
            "64/64 [==============================] - 0s 1ms/step - loss: 0.3075\n",
            "575/575 [==============================] - 1s 2ms/step - loss: 0.9311\n",
            "64/64 [==============================] - 0s 1ms/step - loss: 1.6837\n",
            "575/575 [==============================] - 1s 2ms/step - loss: 1.0871\n",
            "64/64 [==============================] - 0s 1ms/step - loss: 0.3650\n",
            "575/575 [==============================] - 1s 2ms/step - loss: 1.1022\n",
            "64/64 [==============================] - 0s 1ms/step - loss: 0.3011\n",
            "575/575 [==============================] - 1s 2ms/step - loss: 0.9659\n",
            "64/64 [==============================] - 0s 1ms/step - loss: 1.2810\n",
            "575/575 [==============================] - 1s 2ms/step - loss: 1.0856\n",
            "64/64 [==============================] - 0s 1ms/step - loss: 0.2142\n",
            "575/575 [==============================] - 1s 2ms/step - loss: 0.8773\n",
            "64/64 [==============================] - 0s 1ms/step - loss: 2.0677\n",
            "575/575 [==============================] - 1s 2ms/step - loss: 1.0766\n",
            "64/64 [==============================] - 0s 1ms/step - loss: 0.3524\n",
            "575/575 [==============================] - 1s 2ms/step - loss: 0.9264\n",
            "64/64 [==============================] - 0s 1ms/step - loss: 1.6500\n",
            "575/575 [==============================] - 1s 2ms/step - loss: 0.9204\n",
            "64/64 [==============================] - 0s 1ms/step - loss: 1.7413\n",
            "575/575 [==============================] - 1s 2ms/step - loss: 1.0791\n",
            "64/64 [==============================] - 0s 1ms/step - loss: 0.2964\n",
            "575/575 [==============================] - 1s 2ms/step - loss: 0.9188\n",
            "64/64 [==============================] - 0s 1ms/step - loss: 1.6793\n",
            "575/575 [==============================] - 1s 2ms/step - loss: 1.0695\n",
            "64/64 [==============================] - 0s 1ms/step - loss: 0.3624\n",
            "575/575 [==============================] - 1s 2ms/step - loss: 1.0775\n",
            "64/64 [==============================] - 0s 1ms/step - loss: 0.2841\n",
            "575/575 [==============================] - 2s 2ms/step - loss: 71.1058\n",
            "64/64 [==============================] - 0s 1ms/step - loss: 1.2932\n",
            "575/575 [==============================] - 2s 2ms/step - loss: 87.5935\n",
            "64/64 [==============================] - 0s 2ms/step - loss: 0.7271\n",
            "575/575 [==============================] - 2s 2ms/step - loss: 126.4640\n",
            "64/64 [==============================] - 0s 1ms/step - loss: 2.0935\n",
            "575/575 [==============================] - 2s 2ms/step - loss: 174.9552\n",
            "64/64 [==============================] - 0s 1ms/step - loss: 0.4950\n",
            "575/575 [==============================] - 2s 2ms/step - loss: 358.7697\n",
            "64/64 [==============================] - 0s 1ms/step - loss: 1.6652\n",
            "575/575 [==============================] - 2s 2ms/step - loss: 210.2245\n",
            "64/64 [==============================] - 0s 2ms/step - loss: 1.7904\n",
            "575/575 [==============================] - 2s 2ms/step - loss: 121.0405\n",
            "64/64 [==============================] - 0s 1ms/step - loss: 0.3087\n",
            "575/575 [==============================] - 2s 2ms/step - loss: 140.4574\n",
            "64/64 [==============================] - 0s 1ms/step - loss: 1.6859\n",
            "575/575 [==============================] - 2s 2ms/step - loss: 108.8096\n",
            "64/64 [==============================] - 0s 1ms/step - loss: 0.3622\n",
            "575/575 [==============================] - 2s 2ms/step - loss: 126.2523\n",
            "64/64 [==============================] - 0s 1ms/step - loss: 0.2965\n",
            "575/575 [==============================] - 1s 2ms/step - loss: 0.9863\n",
            "64/64 [==============================] - 0s 2ms/step - loss: 1.2719\n",
            "575/575 [==============================] - 1s 2ms/step - loss: 1.1109\n",
            "64/64 [==============================] - 0s 2ms/step - loss: 0.2445\n",
            "575/575 [==============================] - 2s 2ms/step - loss: 0.9253\n",
            "64/64 [==============================] - 0s 1ms/step - loss: 2.1138\n",
            "575/575 [==============================] - 1s 2ms/step - loss: 1.0924\n",
            "64/64 [==============================] - 0s 1ms/step - loss: 0.3659\n",
            "575/575 [==============================] - 1s 2ms/step - loss: 0.9552\n",
            "64/64 [==============================] - 0s 1ms/step - loss: 1.6553\n",
            "575/575 [==============================] - 1s 2ms/step - loss: 0.9388\n",
            "64/64 [==============================] - 0s 1ms/step - loss: 1.7209\n",
            "575/575 [==============================] - 1s 2ms/step - loss: 1.1141\n",
            "64/64 [==============================] - 0s 1ms/step - loss: 0.3119\n",
            "575/575 [==============================] - 2s 2ms/step - loss: 0.9502\n",
            "64/64 [==============================] - 0s 1ms/step - loss: 1.6816\n",
            "575/575 [==============================] - 1s 2ms/step - loss: 1.1009\n",
            "64/64 [==============================] - 0s 2ms/step - loss: 0.3742\n",
            "575/575 [==============================] - 1s 2ms/step - loss: 1.1084\n",
            "64/64 [==============================] - 0s 1ms/step - loss: 0.2837\n",
            "575/575 [==============================] - 1s 2ms/step - loss: 0.9788\n",
            "64/64 [==============================] - 0s 1ms/step - loss: 1.2874\n",
            "575/575 [==============================] - 1s 2ms/step - loss: 1.0970\n",
            "64/64 [==============================] - 0s 1ms/step - loss: 0.2461\n",
            "575/575 [==============================] - 1s 2ms/step - loss: 0.8885\n",
            "64/64 [==============================] - 0s 1ms/step - loss: 2.0823\n",
            "575/575 [==============================] - 2s 2ms/step - loss: 1.0715\n",
            "64/64 [==============================] - 0s 1ms/step - loss: 0.3504\n",
            "575/575 [==============================] - 2s 2ms/step - loss: 0.9431\n",
            "64/64 [==============================] - 0s 1ms/step - loss: 1.6512\n",
            "575/575 [==============================] - 2s 2ms/step - loss: 0.9444\n",
            "64/64 [==============================] - 0s 2ms/step - loss: 1.7124\n",
            "575/575 [==============================] - 2s 2ms/step - loss: 1.0782\n",
            "64/64 [==============================] - 0s 1ms/step - loss: 0.3014\n",
            "575/575 [==============================] - 1s 2ms/step - loss: 0.9413\n",
            "64/64 [==============================] - 0s 1ms/step - loss: 1.6865\n",
            "575/575 [==============================] - 2s 2ms/step - loss: 1.0859\n",
            "64/64 [==============================] - 0s 1ms/step - loss: 0.3572\n",
            "575/575 [==============================] - 2s 2ms/step - loss: 1.0972\n",
            "64/64 [==============================] - 0s 2ms/step - loss: 0.2869\n",
            "575/575 [==============================] - 2s 3ms/step - loss: 0.9906\n",
            "64/64 [==============================] - 0s 1ms/step - loss: 1.2830\n",
            "575/575 [==============================] - 2s 2ms/step - loss: 1.0965\n",
            "64/64 [==============================] - 0s 2ms/step - loss: 0.2138\n",
            "575/575 [==============================] - 1s 2ms/step - loss: 0.8973\n",
            "64/64 [==============================] - 0s 1ms/step - loss: 2.0813\n",
            "575/575 [==============================] - 1s 2ms/step - loss: 1.0956\n",
            "64/64 [==============================] - 0s 2ms/step - loss: 0.3533\n",
            "575/575 [==============================] - 1s 2ms/step - loss: 0.9524\n",
            "64/64 [==============================] - 0s 1ms/step - loss: 1.6528\n",
            "575/575 [==============================] - 1s 2ms/step - loss: 0.9247\n",
            "64/64 [==============================] - 0s 1ms/step - loss: 1.7329\n",
            "575/575 [==============================] - 2s 2ms/step - loss: 1.0996\n",
            "64/64 [==============================] - 0s 1ms/step - loss: 0.2995\n",
            "575/575 [==============================] - 1s 2ms/step - loss: 0.9412\n",
            "64/64 [==============================] - 0s 1ms/step - loss: 1.6710\n",
            "575/575 [==============================] - 1s 2ms/step - loss: 1.0926\n",
            "64/64 [==============================] - 0s 1ms/step - loss: 0.3570\n",
            "575/575 [==============================] - 2s 2ms/step - loss: 1.0883\n",
            "64/64 [==============================] - 0s 1ms/step - loss: 0.2879\n",
            "575/575 [==============================] - 2s 2ms/step - loss: 0.9594\n",
            "64/64 [==============================] - 0s 1ms/step - loss: 1.2820\n",
            "575/575 [==============================] - 2s 2ms/step - loss: 1.0860\n",
            "64/64 [==============================] - 0s 1ms/step - loss: 0.2153\n",
            "575/575 [==============================] - 2s 2ms/step - loss: 0.8756\n",
            "64/64 [==============================] - 0s 2ms/step - loss: 2.0818\n",
            "575/575 [==============================] - 2s 2ms/step - loss: 1.0683\n",
            "64/64 [==============================] - 0s 1ms/step - loss: 0.3486\n",
            "575/575 [==============================] - 2s 2ms/step - loss: 0.9223\n",
            "64/64 [==============================] - 0s 1ms/step - loss: 1.6513\n",
            "575/575 [==============================] - 2s 2ms/step - loss: 0.9135\n",
            "64/64 [==============================] - 0s 1ms/step - loss: 1.7306\n",
            "575/575 [==============================] - 2s 2ms/step - loss: 1.0780\n",
            "64/64 [==============================] - 0s 1ms/step - loss: 0.2981\n",
            "575/575 [==============================] - 2s 2ms/step - loss: 0.9213\n",
            "64/64 [==============================] - 0s 1ms/step - loss: 1.6751\n",
            "575/575 [==============================] - 2s 2ms/step - loss: 1.0623\n",
            "64/64 [==============================] - 0s 1ms/step - loss: 0.3656\n",
            "575/575 [==============================] - 2s 2ms/step - loss: 1.0764\n",
            "64/64 [==============================] - 0s 1ms/step - loss: 0.2867\n",
            "639/639 [==============================] - 2s 2ms/step - loss: 1.0001\n",
            "{'n_neurons': 16, 'n_hidden_layers': 2, 'learning_rate': 0.01}\n"
          ]
        }
      ],
      "source": [
        "from sklearn.model_selection import RandomizedSearchCV\n",
        "from tensorflow.keras.models import Sequential\n",
        "from tensorflow.keras.layers import Dense\n",
        "from tensorflow.keras.wrappers.scikit_learn import KerasRegressor\n",
        "from tensorflow.keras.optimizers import Adam\n",
        "\n",
        "\n",
        "#Createing a model using a function definition\n",
        "def create_model(n_hidden_layers = 1, n_neurons = 32, learning_rate = 0.01):\n",
        "    model = Sequential()\n",
        "    model.add(Dense(n_neurons, input_dim = X_train.shape[1], activation = 'relu'))\n",
        "    \n",
        "    for i in range(n_hidden_layers):\n",
        "        model.add(Dense(n_neurons, activation='relu'))\n",
        "    \n",
        "    model.add(Dense(1))\n",
        "    model.compile(loss = 'mean_squared_error', optimizer = Adam(learning_rate = learning_rate))\n",
        "    \n",
        "    return model\n",
        "#Instantiate a KerasClassifier object\n",
        "model = KerasRegressor(build_fn = create_model)\n",
        "\n",
        "# Define the hyperparameter space\n",
        "param_distributions = {'n_hidden_layers': [1, 2, 3, 4],\n",
        "                      'n_neurons': [16, 32, 64, 128],\n",
        "                      'learning_rate': [0.001, 0.01, 0.1]}\n",
        "\n",
        "#Instantiate a RandomizedSearchCV object\n",
        "random_search = RandomizedSearchCV(estimator = model, param_distributions = param_distributions, n_iter = 10, cv = 10, verbose = 1)\n",
        "\n",
        "# Fiting the RandomizedSearchCV object to the training data\n",
        "random_search.fit(X_train, y_train)\n",
        "\n",
        "# Printing the best hyperparameters\n",
        "print(random_search.best_params_)"
      ]
    },
    {
      "cell_type": "code",
      "execution_count": null,
      "metadata": {
        "colab": {
          "base_uri": "https://localhost:8080/"
        },
        "id": "d-VPIPH2z6PB",
        "outputId": "f5734ada-386f-4049-9743-cf553497d78b"
      },
      "outputs": [
        {
          "name": "stdout",
          "output_type": "stream",
          "text": [
            "Epoch 1/10\n",
            "639/639 [==============================] - 2s 2ms/step - loss: 0.9971\n",
            "Epoch 2/10\n",
            "639/639 [==============================] - 1s 2ms/step - loss: 0.9904\n",
            "Epoch 3/10\n",
            "639/639 [==============================] - 1s 2ms/step - loss: 0.9884\n",
            "Epoch 4/10\n",
            "639/639 [==============================] - 1s 2ms/step - loss: 0.9858\n",
            "Epoch 5/10\n",
            "639/639 [==============================] - 1s 2ms/step - loss: 0.9868\n",
            "Epoch 6/10\n",
            "639/639 [==============================] - 1s 2ms/step - loss: 0.9813\n",
            "Epoch 7/10\n",
            "639/639 [==============================] - 1s 2ms/step - loss: 0.9813\n",
            "Epoch 8/10\n",
            "639/639 [==============================] - 1s 2ms/step - loss: 0.9821\n",
            "Epoch 9/10\n",
            "639/639 [==============================] - 1s 2ms/step - loss: 0.9790\n",
            "Epoch 10/10\n",
            "639/639 [==============================] - 1s 2ms/step - loss: 0.9835\n"
          ]
        },
        {
          "data": {
            "text/plain": [
              "<keras.callbacks.History at 0x7f05636ada30>"
            ]
          },
          "execution_count": 95,
          "metadata": {},
          "output_type": "execute_result"
        }
      ],
      "source": [
        "#Retrieve the best hyperparameters from the random search\n",
        "best_params = random_search.best_params_\n",
        "\n",
        "# Build the model using the best hyperparameters\n",
        "model = create_model(n_hidden_layers = best_params['n_hidden_layers'], n_neurons = best_params['n_neurons'], learning_rate = best_params['learning_rate'])\n",
        "\n",
        "# Fiting the model to the training data\n",
        "model.fit(X_train, y_train, epochs = 10, verbose = 1)"
      ]
    },
    {
      "cell_type": "code",
      "execution_count": null,
      "metadata": {
        "colab": {
          "base_uri": "https://localhost:8080/"
        },
        "id": "d4KweJDG0Hj-",
        "outputId": "91651851-8018-4b85-ef18-dd9259433f31"
      },
      "outputs": [
        {
          "name": "stdout",
          "output_type": "stream",
          "text": [
            "200/200 [==============================] - 1s 3ms/step\n",
            "MSE: 0.35\n",
            "MAE: 0.21\n",
            "R2: 0.03\n"
          ]
        }
      ],
      "source": [
        "from sklearn.metrics import mean_squared_error, mean_absolute_error, r2_score\n",
        "\n",
        "# Replace all NaN values in X_test with 0\n",
        "X_test = np.nan_to_num(X_test, 0)\n",
        "\n",
        "# Replace all NaN values in y_test with 0\n",
        "y_test = np.nan_to_num(y_test, 0)\n",
        "\n",
        "\n",
        "# Get the model's predictions on the test data\n",
        "predictions = model.predict(X_test)\n",
        "\n",
        "# Compute the MSE, MAE, and R2\n",
        "mse = mean_squared_error(y_test, predictions)\n",
        "mae = mean_absolute_error(y_test, predictions)\n",
        "r2 = r2_score(y_test, predictions)\n",
        "\n",
        "# Print the results\n",
        "print(f'MSE: {mse:.2f}')\n",
        "print(f'MAE: {mae:.2f}')\n",
        "print(f'R2: {r2:.2f}')"
      ]
    },
    {
      "attachments": {},
      "cell_type": "markdown",
      "metadata": {
        "id": "9yBcl0JA1eNL"
      },
      "source": [
        "#### **Random Forest Regressor**"
      ]
    },
    {
      "cell_type": "code",
      "execution_count": null,
      "metadata": {
        "colab": {
          "base_uri": "https://localhost:8080/"
        },
        "id": "beMi-_Iu1hZk",
        "outputId": "e2676d42-f6dd-4757-ee83-b479ade0e4b5"
      },
      "outputs": [
        {
          "data": {
            "text/plain": [
              "RandomForestRegressor(n_jobs=-1)"
            ]
          },
          "execution_count": 101,
          "metadata": {},
          "output_type": "execute_result"
        }
      ],
      "source": [
        "# Importing the RandomForestRegressor class\n",
        "from sklearn.ensemble import RandomForestRegressor\n",
        "\n",
        "# Createing an RFR object\n",
        "rfr = RandomForestRegressor(n_jobs = -1)\n",
        "\n",
        "# Fiting the RFR to the training data\n",
        "rfr.fit(X_train, np.ravel(y_train))"
      ]
    },
    {
      "attachments": {},
      "cell_type": "markdown",
      "metadata": {
        "id": "uJoQGyGE1-G6"
      },
      "source": [
        "#### **Hyperparameter Tuning**"
      ]
    },
    {
      "cell_type": "code",
      "execution_count": null,
      "metadata": {
        "colab": {
          "base_uri": "https://localhost:8080/"
        },
        "id": "Lk1qh4SP1pCG",
        "outputId": "df246051-97f7-4d4c-b421-be9180a7069f"
      },
      "outputs": [
        {
          "name": "stdout",
          "output_type": "stream",
          "text": [
            "100%|██████████| 1/1 [14:45<00:00, 885.78s/it, best loss: 1.0076925474472225]\n"
          ]
        }
      ],
      "source": [
        "from hyperopt import tpe, hp, Trials, fmin\n",
        "from sklearn.ensemble import RandomForestRegressor\n",
        "from sklearn.model_selection import cross_val_score\n",
        "\n",
        "\n",
        "def objective(params):\n",
        "   \n",
        "   est = int(params['n_estimators'])\n",
        "   md = int(params['max_depth'])\n",
        "   msl = int(params['min_samples_leaf'])\n",
        "   mss = int(params['min_samples_split'])\n",
        "   \n",
        "   model = RandomForestRegressor(n_estimators = est, max_depth = md, min_samples_leaf = msl, min_samples_split = mss)\n",
        "   \n",
        "   scores = cross_val_score(model, X_train, np.ravel(y_train), cv = 10, scoring = 'neg_mean_squared_error')\n",
        "   score = -scores.mean()  # negating the mean MSE to minimize the objective\n",
        "\n",
        "   return score\n",
        "\n",
        "def optimize(trial):\n",
        "   \n",
        "   params = {'n_estimators':hp.uniform('n_estimators', 100, 500),\n",
        "           'max_depth':hp.uniform('max_depth', 5, 20),\n",
        "           'min_samples_leaf':hp.uniform('min_samples_leaf', 1, 5),\n",
        "           'min_samples_split':hp.uniform('min_samples_split', 2, 6)}\n",
        "   \n",
        "   best = fmin(fn = objective, space = params, algo = tpe.suggest, trials = trial, max_evals = 1)\n",
        "   \n",
        "   return best\n",
        "\n",
        "trial = Trials()\n",
        "best = optimize(trial)"
      ]
    },
    {
      "cell_type": "code",
      "execution_count": null,
      "metadata": {
        "colab": {
          "base_uri": "https://localhost:8080/"
        },
        "id": "cv82QxMC2DPH",
        "outputId": "ebad005d-f69c-438b-c405-60966e02594f"
      },
      "outputs": [
        {
          "data": {
            "text/plain": [
              "RandomForestRegressor(max_depth=8, min_samples_split=3, n_estimators=345,\n",
              "                      n_jobs=-1)"
            ]
          },
          "execution_count": 103,
          "metadata": {},
          "output_type": "execute_result"
        }
      ],
      "source": [
        "rfr = RandomForestRegressor(max_depth = round(best['max_depth']), min_samples_split = round(best['min_samples_split']), n_estimators = round(best['n_estimators']), n_jobs = -1)\n",
        "\n",
        "rfr.fit(X_train, np.ravel(y_train))"
      ]
    },
    {
      "cell_type": "code",
      "execution_count": null,
      "metadata": {
        "colab": {
          "base_uri": "https://localhost:8080/"
        },
        "id": "xdsmjtO-1keh",
        "outputId": "675e9567-5f48-4862-c73b-98963bdfc7c6"
      },
      "outputs": [
        {
          "name": "stdout",
          "output_type": "stream",
          "text": [
            "R2: -0.27\n"
          ]
        }
      ],
      "source": [
        "# Get the model's predictions on the test data\n",
        "predictions = rfr.predict(X_test)\n",
        "\n",
        "# Compute the R2 score\n",
        "r2 = rfr.score(X_test, y_test)\n",
        "\n",
        "# Print the R2 score\n",
        "print(f'R2: {r2:.2f}')"
      ]
    },
    {
      "attachments": {},
      "cell_type": "markdown",
      "metadata": {
        "id": "ZxnQ7lvHDcS8"
      },
      "source": [
        "#### **XGboost Regression**"
      ]
    },
    {
      "cell_type": "code",
      "execution_count": null,
      "metadata": {
        "id": "yeVkhPxmDqrp"
      },
      "outputs": [],
      "source": [
        "import xgboost as xgb\n",
        "from sklearn.model_selection import RandomizedSearchCV\n",
        "\n",
        "def tune_model(X_train, y_train, X_val, y_val):\n",
        "    # Defining the parameter grid for the learning rate and maximum depth\n",
        "    param_grid = {'learning_rate': [0.1, 0.2, 0.3], 'max_depth': [3, 4, 5]}\n",
        "    \n",
        "    # Creating an XGBoost regressor\n",
        "    regressor = xgb.XGBRegressor(objective = 'reg:squarederror')\n",
        "    \n",
        "    # Creating a RandomizedSearchCV object\n",
        "    search = RandomizedSearchCV(estimator=regressor, param_distributions=param_grid, n_iter=5, cv=5, random_state=42)\n",
        "    \n",
        "    # Fiting the random search object to the training data\n",
        "    search.fit(X_train, y_train)\n",
        "    \n",
        "    # Getting the best parameters\n",
        "    best_params = search.best_params_\n",
        "    \n",
        "    # Print the best parameters\n",
        "    print(\"Best parameters:\", best_params)\n",
        "    \n",
        "    # Get the best model\n",
        "    best_model = search.best_estimator_\n",
        "    \n",
        "    return best_model, best_params\n"
      ]
    },
    {
      "cell_type": "code",
      "execution_count": null,
      "metadata": {
        "colab": {
          "base_uri": "https://localhost:8080/"
        },
        "id": "-kcUCq62I18P",
        "outputId": "3d2ffe9d-e985-4d29-91f2-b7cfdb9e9aae"
      },
      "outputs": [
        {
          "name": "stdout",
          "output_type": "stream",
          "text": [
            "Best parameters: {'max_depth': 3, 'learning_rate': 0.1}\n"
          ]
        }
      ],
      "source": [
        "# Getting the best model and best parameters\n",
        "best_model, best_params = tune_model(X_train, y_train, X_val, y_val)\n",
        "\n",
        "# doing predictions on the test data using the best model\n",
        "y_pred = best_model.predict(X_test)"
      ]
    },
    {
      "cell_type": "code",
      "execution_count": null,
      "metadata": {
        "colab": {
          "base_uri": "https://localhost:8080/"
        },
        "id": "FM4jsSeiOzAa",
        "outputId": "ef85f2a7-0c29-466f-8d04-5dadac28b387"
      },
      "outputs": [
        {
          "name": "stdout",
          "output_type": "stream",
          "text": [
            "Mean absolute error: 0.2282987780373023\n",
            "R2 score: -0.5311582091681957\n"
          ]
        }
      ],
      "source": [
        "from sklearn.metrics import mean_absolute_error\n",
        "from sklearn.metrics import r2_score\n",
        "\n",
        "# Calculate the mean absolute error\n",
        "mae = mean_absolute_error(y_test, y_pred)\n",
        "\n",
        "# Calculate the R2 score\n",
        "r2 = r2_score(y_test, y_pred)\n",
        "\n",
        "print(\"Mean absolute error:\", mae)\n",
        "print(\"R2 score:\", r2)"
      ]
    },
    {
      "cell_type": "code",
      "execution_count": null,
      "metadata": {
        "id": "qRGseV4UP5Fw"
      },
      "outputs": [],
      "source": [
        "def find_important_features(X_train, y_train, column_names, n_features = 20):\n",
        "    # Create a random forest regressor\n",
        "    model = RandomForestRegressor(n_jobs = -1, random_state = 42)\n",
        "    \n",
        "    # Fit the model to the training data\n",
        "    model.fit(X_train, y_train)\n",
        "    \n",
        "    # Get the feature importances\n",
        "    importances = model.feature_importances_\n",
        "    \n",
        "    # Sort the importances in descending order\n",
        "    indices = np.argsort(importances)[::-1]\n",
        "    \n",
        "    # Get the top n_features most important features\n",
        "    top_n = indices[:n_features]\n",
        "    \n",
        "    # Get the names of the most important features\n",
        "    important_features = [column_names[i] for i in top_n]\n",
        "    \n",
        "    return important_features\n",
        "\n",
        "important_features = find_important_features(X_train, y_train, social_clean.columns)"
      ]
    },
    {
      "cell_type": "code",
      "execution_count": null,
      "metadata": {
        "colab": {
          "base_uri": "https://localhost:8080/"
        },
        "id": "3C9DaHoWFhlX",
        "outputId": "2a390db5-6da9-4f21-c26e-7cc0a63d559e"
      },
      "outputs": [
        {
          "name": "stdout",
          "output_type": "stream",
          "text": [
            "['tokens_title', 'tokens_content', 'hrefs', 'self_refs', 'entertainment', 'kw_min_avg', 'kw_max_avg', 'kw_avg_avg', 'self_reference_min_shares']\n"
          ]
        }
      ],
      "source": [
        "from sklearn.linear_model import LinearRegression\n",
        "import statsmodels.api as sm\n",
        "\n",
        "def find_important_features(X_train, y_train, column_names, p_value=0.05):\n",
        "    #Construct a model based on linear regression.\n",
        "    model = LinearRegression()\n",
        "    \n",
        "    # Fit this model using the available training data.\n",
        "    model.fit(X_train, y_train)\n",
        "    \n",
        "    #Calculate the p-values associated with the coefficients.\n",
        "    p_values = sm.OLS(y_train, X_train).fit().pvalues\n",
        "    \n",
        "    # Retain only the features that have p-values lower than the specified threshold.\n",
        "    important_features = [column_names[i] for i in range(len(p_values)) if p_values[i] < p_value]\n",
        "    \n",
        "    return important_features\n",
        "\n",
        "# Identify the features of significance.\n",
        "important_features = find_important_features(X_train, y_train, social_clean.columns, p_value=0.05)\n",
        "\n",
        "# Print the important features\n",
        "print(important_features)"
      ]
    },
    {
      "cell_type": "code",
      "execution_count": null,
      "metadata": {
        "id": "aybyCBUlJpZg"
      },
      "outputs": [],
      "source": [
        "def generate_new_sets(df, important_columns, train_size = 0.8, test_size = 0.2):\n",
        "    #Identify the independent variables and the target column.\n",
        "    X = df[important_columns]\n",
        "    y = df['shares']\n",
        "    \n",
        "   #Divide the data into training, validation, and testing subsets.\n",
        "    X_train, X_test, y_train, y_test = train_test_split(X, y, train_size = train_size, test_size = test_size, random_state = 42)\n",
        "    X_train, X_val, y_train, y_val = train_test_split(X_train, y_train, test_size = test_size / (train_size + test_size), random_state = 42)\n",
        "    \n",
        "    #Normalize the training dataset.\n",
        "    scaler_X = StandardScaler()\n",
        "    X_train_scaled = scaler_X.fit_transform(X_train)\n",
        "    \n",
        "    scaler_y = StandardScaler()\n",
        "    y_train_scaled = scaler_y.fit_transform(y_train.values.reshape(-1, 1))\n",
        "    \n",
        "    # Apply the normalization process to the test data using the scales derived from the training data.\n",
        "    X_test_scaled = scaler_X.transform(X_test)\n",
        "    y_test_scaled = scaler_y.transform(y_test.values.reshape(-1, 1))\n",
        "    \n",
        "    #Similarly, normalize the validation data using the scales that were fitted to the training data.\n",
        "    X_val_scaled = scaler_X.transform(X_val)\n",
        "    y_val_scaled = scaler_y.transform(y_val.values.reshape(-1, 1))\n",
        "    \n",
        "    return X_train_scaled, X_val_scaled, X_test_scaled, y_train_scaled, y_val_scaled, y_test_scaled\n",
        "\n",
        "\n",
        "\n",
        "X_train, X_val, X_test, y_train, y_val, y_test = generate_new_sets(social_clean, important_features)"
      ]
    },
    {
      "cell_type": "code",
      "execution_count": null,
      "metadata": {
        "colab": {
          "base_uri": "https://localhost:8080/"
        },
        "id": "laF5cFfeJs_W",
        "outputId": "7fea1a28-37d7-4251-b9a4-56b9113404cc"
      },
      "outputs": [
        {
          "name": "stdout",
          "output_type": "stream",
          "text": [
            "R2: 0.07\n"
          ]
        }
      ],
      "source": [
        "# Initiate the process of adjusting the parameters of the model to optimize its performance.\n",
        "rfr.fit(X_train, y_train)\n",
        "\n",
        "# Obtain the predicted outcomes provided by the model on the test dataset.\n",
        "predictions = rfr.predict(X_test)\n",
        "\n",
        "# Determine the R2 value.\n",
        "r2 = rfr.score(X_test, y_test)\n",
        "\n",
        "# Print the R2 score\n",
        "print(f'R2: {r2:.2f}')"
      ]
    },
    {
      "cell_type": "code",
      "execution_count": null,
      "metadata": {
        "colab": {
          "base_uri": "https://localhost:8080/"
        },
        "id": "L7uBnpW6J1Mk",
        "outputId": "fa2a4dde-a72f-4501-e50a-57cbb36f307e"
      },
      "outputs": [
        {
          "name": "stdout",
          "output_type": "stream",
          "text": [
            "Epoch 1/10\n",
            "84/84 [==============================] - 1s 1ms/step - loss: 0.9793\n",
            "Epoch 2/10\n",
            "84/84 [==============================] - 0s 2ms/step - loss: 0.9485\n",
            "Epoch 3/10\n",
            "84/84 [==============================] - 0s 1ms/step - loss: 0.9352\n",
            "Epoch 4/10\n",
            "84/84 [==============================] - 0s 1ms/step - loss: 0.9323\n",
            "Epoch 5/10\n",
            "84/84 [==============================] - 0s 1ms/step - loss: 0.9261\n",
            "Epoch 6/10\n",
            "84/84 [==============================] - 0s 2ms/step - loss: 0.9079\n",
            "Epoch 7/10\n",
            "84/84 [==============================] - 0s 2ms/step - loss: 0.9073\n",
            "Epoch 8/10\n",
            "84/84 [==============================] - 0s 2ms/step - loss: 0.9077\n",
            "Epoch 9/10\n",
            "84/84 [==============================] - 0s 2ms/step - loss: 0.8991\n",
            "Epoch 10/10\n",
            "84/84 [==============================] - 0s 2ms/step - loss: 0.9002\n",
            "27/27 [==============================] - 0s 1ms/step\n",
            "MSE: 0.92\n",
            "MAE: 0.70\n",
            "R2: 0.05\n"
          ]
        }
      ],
      "source": [
        "#Retrieve the optimal hyperparameters from the random search process.\n",
        "best_parameters = random_search.best_params_\n",
        "\n",
        "#Construct the model using the optimal hyperparameters.\n",
        "model_new = create_model(n_hidden_layers = best_parameters['n_hidden_layers'], n_neurons = best_parameters['n_neurons'], learning_rate = best_parameters['learning_rate'])\n",
        "\n",
        "# Train the model using the training data.\n",
        "model_new.fit(X_train, y_train, epochs = 10, verbose = 1)\n",
        "\n",
        "# Obtain the model's forecasted outcomes for the test data.\n",
        "predictions = model_new.predict(X_test)\n",
        "\n",
        "# Calculate Coefficient of Determination, the Mean Squared Error, the Mean Absolute Error.\n",
        "mse = mean_squared_error(y_test, predictions)\n",
        "mae = mean_absolute_error(y_test, predictions)\n",
        "r2 = r2_score(y_test, predictions)\n",
        "\n",
        "# Print the outcomes.\n",
        "print(f'MSE: {mse:.2f}')\n",
        "print(f'MAE: {mae:.2f}')\n",
        "print(f'R2: {r2:.2f}')"
      ]
    },
    {
      "cell_type": "code",
      "execution_count": null,
      "metadata": {
        "colab": {
          "base_uri": "https://localhost:8080/"
        },
        "id": "lHFvstEsSa56",
        "outputId": "4103816e-a04a-404b-a49e-a795169025d0"
      },
      "outputs": [
        {
          "name": "stdout",
          "output_type": "stream",
          "text": [
            "Mean absolute error: 0.68834\n",
            "R2 score: 0.08482\n"
          ]
        }
      ],
      "source": [
        "regressor = xgb.XGBRegressor(objective = 'reg:squarederror', max_depth = best_params['max_depth'], learning_rate = best_params['learning_rate'])\n",
        "\n",
        "regressor.fit(X_train, y_train)\n",
        "\n",
        "#Utilize the optimal model to forecast outcomes based on the test data \n",
        "y_pred = regressor.predict(X_test)\n",
        "\n",
        "#Determine the average absolute deviation \n",
        "mae = mean_absolute_error(y_test, y_pred)\n",
        "\n",
        "#Compute the R2 coefficient of determination \n",
        "r2 = r2_score(y_test, y_pred)\n",
        "\n",
        "print(\"Mean absolute error:\", round(mae, 5))\n",
        "print(\"R2 score:\", round(r2, 5))"
      ]
    }
  ],
  "metadata": {
    "colab": {
      "provenance": []
    },
    "kernelspec": {
      "display_name": "Python 3",
      "language": "python",
      "name": "python3"
    },
    "language_info": {
      "codemirror_mode": {
        "name": "ipython",
        "version": 3
      },
      "file_extension": ".py",
      "mimetype": "text/x-python",
      "name": "python",
      "nbconvert_exporter": "python",
      "pygments_lexer": "ipython3",
      "version": "3.11.3"
    },
    "vscode": {
      "interpreter": {
        "hash": "0f79e8fdcbaf9dbcf0fc3648b9cb4d16ab0d4577684141615d3ca72d007f4e7b"
      }
    }
  },
  "nbformat": 4,
  "nbformat_minor": 0
}
